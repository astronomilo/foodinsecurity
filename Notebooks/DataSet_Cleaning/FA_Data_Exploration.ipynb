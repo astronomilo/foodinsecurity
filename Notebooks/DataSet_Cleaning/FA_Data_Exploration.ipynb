{
 "cells": [
  {
   "cell_type": "markdown",
   "metadata": {},
   "source": [
    "# Data exploration\n",
    "# Feeding America 2019"
   ]
  },
  {
   "cell_type": "code",
   "execution_count": 1,
   "metadata": {},
   "outputs": [],
   "source": [
    "# Packages\n",
    "import pandas as pd\n",
    "import glob"
   ]
  },
  {
   "cell_type": "code",
   "execution_count": 9,
   "metadata": {},
   "outputs": [],
   "source": [
    "# Path to all Excel original data:\n",
    "path = './datasets/feedingamerica/databases/Map_the_Meal_Gap_Data/'"
   ]
  },
  {
   "cell_type": "code",
   "execution_count": 31,
   "metadata": {},
   "outputs": [],
   "source": [
    "# 2018 Data\n",
    "year = 2018\n",
    "file = 'MMG2020_2018Data_ToShare.xlsx'\n",
    "df2018 = pd.read_excel(path + file, sheet_name=f'{year} County',header=1)\n",
    "# Select only rows for Mississipi\n",
    "df2018_ms = df2018.loc[df2018.State == 'MS']\n",
    "# Save dataframe to a new CSV file containing only data for Mississipi\n",
    "df2018_ms.to_csv(f'./datasets/Mississipi/FA_{year}Data_MS.csv')"
   ]
  },
  {
   "cell_type": "code",
   "execution_count": 32,
   "metadata": {},
   "outputs": [],
   "source": [
    "# 2019 Data\n",
    "year = 2019\n",
    "file = 'MMG2021_2019Data_ToShare.xlsx'\n",
    "df2019 = pd.read_excel(path + file, sheet_name=f'{year} County')\n",
    "# Select only rows for Mississipi\n",
    "df2019_ms = df2019.loc[df2019.State == 'MS']\n",
    "# Save dataframe to a new CSV file containing only data for Mississipi\n",
    "df2019_ms.to_csv(f'./datasets/Mississipi/FA_{year}Data_MS.csv')"
   ]
  },
  {
   "cell_type": "code",
   "execution_count": null,
   "metadata": {},
   "outputs": [],
   "source": []
  }
 ],
 "metadata": {
  "kernelspec": {
   "display_name": "Python 3",
   "language": "python",
   "name": "python3"
  },
  "language_info": {
   "codemirror_mode": {
    "name": "ipython",
    "version": 3
   },
   "file_extension": ".py",
   "mimetype": "text/x-python",
   "name": "python",
   "nbconvert_exporter": "python",
   "pygments_lexer": "ipython3",
   "version": "3.7.4"
  },
  "latex_envs": {
   "LaTeX_envs_menu_present": true,
   "autoclose": false,
   "autocomplete": true,
   "bibliofile": "biblio.bib",
   "cite_by": "apalike",
   "current_citInitial": 1,
   "eqLabelWithNumbers": true,
   "eqNumInitial": 1,
   "hotkeys": {
    "equation": "Ctrl-E",
    "itemize": "Ctrl-I"
   },
   "labels_anchors": false,
   "latex_user_defs": false,
   "report_style_numbering": false,
   "user_envs_cfg": false
  }
 },
 "nbformat": 4,
 "nbformat_minor": 2
}
