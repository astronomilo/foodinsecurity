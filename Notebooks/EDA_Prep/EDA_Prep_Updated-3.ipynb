{
 "cells": [
  {
   "cell_type": "markdown",
   "metadata": {},
   "source": [
    "# Exploratory Data Analysis\n",
    "## Group 27\n",
    "### January 2022"
   ]
  },
  {
   "cell_type": "markdown",
   "metadata": {},
   "source": [
    "With your datasets sourced and cleaned now you will begin exploring the data. This entails performing Exploratory Data Analysis (EDA). EDA is used to understand and summarize the contents of a dataset. In this case, EDA will be used to help you investigate the specific questions for the business problem proposed for your capstone project. EDA relies heavily on visualizing the data to assess patterns and identify data characteristics. Please use the **Six Steps of Exploratory Data Analysis** outlined below to help guide your work. Refer back to your project scoping document where you have outlined the specific business problems you are looking to solve."
   ]
  },
  {
   "cell_type": "markdown",
   "metadata": {},
   "source": [
    "Selecting columns of interest and target feature(s)\n",
    "* Which columns in your data sets will help you answer the questions posed by\n",
    "your problem statement? \n",
    "* Which columns represent the key pieces of information you want to examine (i.e.\n",
    "your target variables)?\n",
    "* How many numerical, textual, datetime etc. columns are in your dataset?\n",
    "* Pick out any similar columns among your disparate data sets for potential linking\n",
    "later on on the EDA process\n",
    "\n",
    "Explore Individual columns for preliminary insights\n",
    "* How many null values are present in your data (what percentage)?\n",
    "* Plot one-dimensional distributions of numerical columns (ex. histograms) and\n",
    "observe the overall shape of the data (i.e. normal distribution, skewed,\n",
    "multimodal, discontinuous\n",
    "* Compute basic statistics of numerical columns\n",
    "* Calculate subgroup size of text/categorical data (such as the pd.value_counts()\n",
    "method)\n",
    "* Explore any date/datetime columns for basic trends. How long is the period of\n",
    "time covered by the dataset? Do any seasonality trends immediately become\n",
    "apparent?\n",
    "\n",
    " Plot two-dimensional distributions of your variables of interest against your target\n",
    "variable(s).\n",
    "* Across different values of your independent variable, how does the dependent\n",
    "variable change?\n",
    "* Which interactions of variables provide the most interesting insights?\n",
    "* What trends do you see in the data? Do they support or contradict the hypothesis\n",
    "of your problem statement?\n",
    "\n",
    "Analyze any correlations between your independent and dependent variables\n",
    "* Understand and resolve surprising correlations between these variables, and use this information to validate your initial hypothesis.\n",
    "\n",
    "Craft a compelling story from the work you’ve done in the previous steps\n",
    "* Which charts, graphs, and tables provide the most compelling evidence in\n",
    "support of your project idea?\n",
    "* If your data analysis has largely disproved your initial hypothesis, can you craft a\n",
    "narrative for this alternative?\n"
   ]
  },
  {
   "cell_type": "code",
   "execution_count": 20,
   "metadata": {},
   "outputs": [],
   "source": [
    "# Packages\n",
    "import json\n",
    "import pandas as pd\n",
    "import matplotlib.pyplot as plt\n",
    "import seaborn as sns\n",
    "import numpy as np\n",
    "import base64"
   ]
  },
  {
   "cell_type": "markdown",
   "metadata": {},
   "source": [
    "#### Reading Datasets"
   ]
  },
  {
   "cell_type": "code",
   "execution_count": 33,
   "metadata": {},
   "outputs": [],
   "source": [
    "# Read CPS\n",
    "#cps_path = '../../datasets/Mississipi/'\n",
    "cps_path = '/home/jovyan/team_27_final_project/' # Uncomment for Drea\n",
    "cps_csvfile = 'CPS_2019Data_MS.csv'\n",
    "cps_df = pd.read_csv(cps_path + cps_csvfile)"
   ]
  },
  {
   "cell_type": "markdown",
   "metadata": {},
   "source": [
    "## CPS First exploration"
   ]
  },
  {
   "cell_type": "code",
   "execution_count": 34,
   "metadata": {},
   "outputs": [
    {
     "name": "stdout",
     "output_type": "stream",
     "text": [
      "<class 'pandas.core.frame.DataFrame'>\n",
      "RangeIndex: 2692 entries, 0 to 2691\n",
      "Data columns (total 11 columns):\n",
      " #   Column      Non-Null Count  Dtype\n",
      "---  ------      --------------  -----\n",
      " 0   Unnamed: 0  2692 non-null   int64\n",
      " 1   HEFAMINC    2692 non-null   int64\n",
      " 2   HRHTYPE     2692 non-null   int64\n",
      " 3   PTDTRACE    2692 non-null   int64\n",
      " 4   PREMPNOT    2692 non-null   int64\n",
      " 5   PRCHLD      2692 non-null   int64\n",
      " 6   HETS2O      2692 non-null   int64\n",
      " 7   HETS6O      2692 non-null   int64\n",
      " 8   HETS8CO     2692 non-null   int64\n",
      " 9   HESP1       2692 non-null   int64\n",
      " 10  HETSP3O     2692 non-null   int64\n",
      "dtypes: int64(11)\n",
      "memory usage: 231.5 KB\n"
     ]
    }
   ],
   "source": [
    "cps_df.info()"
   ]
  },
  {
   "cell_type": "code",
   "execution_count": 35,
   "metadata": {},
   "outputs": [
    {
     "data": {
      "text/html": [
       "<div>\n",
       "<style scoped>\n",
       "    .dataframe tbody tr th:only-of-type {\n",
       "        vertical-align: middle;\n",
       "    }\n",
       "\n",
       "    .dataframe tbody tr th {\n",
       "        vertical-align: top;\n",
       "    }\n",
       "\n",
       "    .dataframe thead th {\n",
       "        text-align: right;\n",
       "    }\n",
       "</style>\n",
       "<table border=\"1\" class=\"dataframe\">\n",
       "  <thead>\n",
       "    <tr style=\"text-align: right;\">\n",
       "      <th></th>\n",
       "      <th>Unnamed: 0</th>\n",
       "      <th>HEFAMINC</th>\n",
       "      <th>HRHTYPE</th>\n",
       "      <th>PTDTRACE</th>\n",
       "      <th>PREMPNOT</th>\n",
       "      <th>PRCHLD</th>\n",
       "      <th>HETS2O</th>\n",
       "      <th>HETS6O</th>\n",
       "      <th>HETS8CO</th>\n",
       "      <th>HESP1</th>\n",
       "      <th>HETSP3O</th>\n",
       "    </tr>\n",
       "  </thead>\n",
       "  <tbody>\n",
       "    <tr>\n",
       "      <th>0</th>\n",
       "      <td>2292</td>\n",
       "      <td>8</td>\n",
       "      <td>1</td>\n",
       "      <td>1</td>\n",
       "      <td>1</td>\n",
       "      <td>4</td>\n",
       "      <td>-1</td>\n",
       "      <td>-1</td>\n",
       "      <td>-1</td>\n",
       "      <td>-1</td>\n",
       "      <td>-1</td>\n",
       "    </tr>\n",
       "    <tr>\n",
       "      <th>1</th>\n",
       "      <td>2293</td>\n",
       "      <td>8</td>\n",
       "      <td>1</td>\n",
       "      <td>1</td>\n",
       "      <td>4</td>\n",
       "      <td>4</td>\n",
       "      <td>-1</td>\n",
       "      <td>-1</td>\n",
       "      <td>-1</td>\n",
       "      <td>-1</td>\n",
       "      <td>-1</td>\n",
       "    </tr>\n",
       "    <tr>\n",
       "      <th>2</th>\n",
       "      <td>2294</td>\n",
       "      <td>8</td>\n",
       "      <td>1</td>\n",
       "      <td>1</td>\n",
       "      <td>4</td>\n",
       "      <td>0</td>\n",
       "      <td>-1</td>\n",
       "      <td>-1</td>\n",
       "      <td>-1</td>\n",
       "      <td>-1</td>\n",
       "      <td>-1</td>\n",
       "    </tr>\n",
       "    <tr>\n",
       "      <th>3</th>\n",
       "      <td>2295</td>\n",
       "      <td>8</td>\n",
       "      <td>1</td>\n",
       "      <td>1</td>\n",
       "      <td>-1</td>\n",
       "      <td>0</td>\n",
       "      <td>-1</td>\n",
       "      <td>-1</td>\n",
       "      <td>-1</td>\n",
       "      <td>-1</td>\n",
       "      <td>-1</td>\n",
       "    </tr>\n",
       "    <tr>\n",
       "      <th>4</th>\n",
       "      <td>2296</td>\n",
       "      <td>10</td>\n",
       "      <td>7</td>\n",
       "      <td>1</td>\n",
       "      <td>4</td>\n",
       "      <td>0</td>\n",
       "      <td>-1</td>\n",
       "      <td>30</td>\n",
       "      <td>20</td>\n",
       "      <td>-1</td>\n",
       "      <td>-1</td>\n",
       "    </tr>\n",
       "  </tbody>\n",
       "</table>\n",
       "</div>"
      ],
      "text/plain": [
       "   Unnamed: 0  HEFAMINC  HRHTYPE  PTDTRACE  PREMPNOT  PRCHLD  HETS2O  HETS6O  \\\n",
       "0        2292         8        1         1         1       4      -1      -1   \n",
       "1        2293         8        1         1         4       4      -1      -1   \n",
       "2        2294         8        1         1         4       0      -1      -1   \n",
       "3        2295         8        1         1        -1       0      -1      -1   \n",
       "4        2296        10        7         1         4       0      -1      30   \n",
       "\n",
       "   HETS8CO  HESP1  HETSP3O  \n",
       "0       -1     -1       -1  \n",
       "1       -1     -1       -1  \n",
       "2       -1     -1       -1  \n",
       "3       -1     -1       -1  \n",
       "4       20     -1       -1  "
      ]
     },
     "execution_count": 35,
     "metadata": {},
     "output_type": "execute_result"
    }
   ],
   "source": [
    "cps_df.head()"
   ]
  },
  {
   "cell_type": "code",
   "execution_count": 45,
   "metadata": {},
   "outputs": [],
   "source": [
    "# Creating a list of 10 columns that we are going to keep\n",
    "cps_df = cps_df.rename(columns={'HEFAMINC':'FAMILY_INCOME','HRHTYPE':'HOUSEHOLD_TYPE', \n",
    "                        'PTDTRACE':'RACE', 'PREMPNOT':'EMPLOYMENT_STATUS', \n",
    "                        'PRCHILD':'PRESENCE_OF_CHILDREN_UNDER_18YO', 'HETS2O':'HOUSEHOLD_PURCHASES_GROCERIES', \n",
    "                        'HETS6O':'HOUSEHOLD_PURCHASES_RESTAURANTS', \n",
    "                        'HETS8CO': 'AMOUNT_NEEDED_TO_MEET_HOUSEHOLD_FOOD_NEED', \n",
    "                        'HETSP3O':'FOODSTAMPS_AMT_PERMONTH', 'HESP1':'Y/N_RECEVIED_FOODBENEFITS_PAST12MONTHS'})"
   ]
  },
  {
   "cell_type": "code",
   "execution_count": 46,
   "metadata": {},
   "outputs": [
    {
     "name": "stdout",
     "output_type": "stream",
     "text": [
      "<class 'pandas.core.frame.DataFrame'>\n",
      "RangeIndex: 2692 entries, 0 to 2691\n",
      "Data columns (total 11 columns):\n",
      " #   Column                                     Non-Null Count  Dtype\n",
      "---  ------                                     --------------  -----\n",
      " 0   Unnamed: 0                                 2692 non-null   int64\n",
      " 1   FAMILY_INCOME                              2692 non-null   int64\n",
      " 2   HOUSEHOLD_TYPE                             2692 non-null   int64\n",
      " 3   RACE                                       2692 non-null   int64\n",
      " 4   EMPLOYMENT_STATUS                          2692 non-null   int64\n",
      " 5   PRCHLD                                     2692 non-null   int64\n",
      " 6   HOUSEHOLD_PURCHASES_GROCERIES              2692 non-null   int64\n",
      " 7   HOUSEHOLD_PURCHASES_RESTAURANTS            2692 non-null   int64\n",
      " 8   AMOUNT_NEEDED_TO_MEET_HOUSEHOLD_FOOD_NEED  2692 non-null   int64\n",
      " 9   Y/N_RECEVIED_FOODBENEFITS_PAST12MONTHS     2692 non-null   int64\n",
      " 10  FOODSTAMPS_AMT_PERMONTH                    2692 non-null   int64\n",
      "dtypes: int64(11)\n",
      "memory usage: 231.5 KB\n"
     ]
    }
   ],
   "source": [
    "cps_df.info()"
   ]
  },
  {
   "cell_type": "code",
   "execution_count": 48,
   "metadata": {},
   "outputs": [
    {
     "data": {
      "text/html": [
       "<div>\n",
       "<style scoped>\n",
       "    .dataframe tbody tr th:only-of-type {\n",
       "        vertical-align: middle;\n",
       "    }\n",
       "\n",
       "    .dataframe tbody tr th {\n",
       "        vertical-align: top;\n",
       "    }\n",
       "\n",
       "    .dataframe thead th {\n",
       "        text-align: right;\n",
       "    }\n",
       "</style>\n",
       "<table border=\"1\" class=\"dataframe\">\n",
       "  <thead>\n",
       "    <tr style=\"text-align: right;\">\n",
       "      <th></th>\n",
       "      <th>Unnamed: 0</th>\n",
       "      <th>FAMILY_INCOME</th>\n",
       "      <th>HOUSEHOLD_TYPE</th>\n",
       "      <th>RACE</th>\n",
       "      <th>EMPLOYMENT_STATUS</th>\n",
       "      <th>PRCHLD</th>\n",
       "      <th>HOUSEHOLD_PURCHASES_GROCERIES</th>\n",
       "      <th>HOUSEHOLD_PURCHASES_RESTAURANTS</th>\n",
       "      <th>AMOUNT_NEEDED_TO_MEET_HOUSEHOLD_FOOD_NEED</th>\n",
       "      <th>Y/N_RECEVIED_FOODBENEFITS_PAST12MONTHS</th>\n",
       "      <th>FOODSTAMPS_AMT_PERMONTH</th>\n",
       "    </tr>\n",
       "  </thead>\n",
       "  <tbody>\n",
       "    <tr>\n",
       "      <th>0</th>\n",
       "      <td>2292</td>\n",
       "      <td>8</td>\n",
       "      <td>1</td>\n",
       "      <td>1</td>\n",
       "      <td>1</td>\n",
       "      <td>4</td>\n",
       "      <td>-1</td>\n",
       "      <td>-1</td>\n",
       "      <td>-1</td>\n",
       "      <td>-1</td>\n",
       "      <td>-1</td>\n",
       "    </tr>\n",
       "    <tr>\n",
       "      <th>1</th>\n",
       "      <td>2293</td>\n",
       "      <td>8</td>\n",
       "      <td>1</td>\n",
       "      <td>1</td>\n",
       "      <td>4</td>\n",
       "      <td>4</td>\n",
       "      <td>-1</td>\n",
       "      <td>-1</td>\n",
       "      <td>-1</td>\n",
       "      <td>-1</td>\n",
       "      <td>-1</td>\n",
       "    </tr>\n",
       "    <tr>\n",
       "      <th>2</th>\n",
       "      <td>2294</td>\n",
       "      <td>8</td>\n",
       "      <td>1</td>\n",
       "      <td>1</td>\n",
       "      <td>4</td>\n",
       "      <td>0</td>\n",
       "      <td>-1</td>\n",
       "      <td>-1</td>\n",
       "      <td>-1</td>\n",
       "      <td>-1</td>\n",
       "      <td>-1</td>\n",
       "    </tr>\n",
       "    <tr>\n",
       "      <th>3</th>\n",
       "      <td>2295</td>\n",
       "      <td>8</td>\n",
       "      <td>1</td>\n",
       "      <td>1</td>\n",
       "      <td>-1</td>\n",
       "      <td>0</td>\n",
       "      <td>-1</td>\n",
       "      <td>-1</td>\n",
       "      <td>-1</td>\n",
       "      <td>-1</td>\n",
       "      <td>-1</td>\n",
       "    </tr>\n",
       "    <tr>\n",
       "      <th>4</th>\n",
       "      <td>2296</td>\n",
       "      <td>10</td>\n",
       "      <td>7</td>\n",
       "      <td>1</td>\n",
       "      <td>4</td>\n",
       "      <td>0</td>\n",
       "      <td>-1</td>\n",
       "      <td>30</td>\n",
       "      <td>20</td>\n",
       "      <td>-1</td>\n",
       "      <td>-1</td>\n",
       "    </tr>\n",
       "  </tbody>\n",
       "</table>\n",
       "</div>"
      ],
      "text/plain": [
       "   Unnamed: 0  FAMILY_INCOME  HOUSEHOLD_TYPE  RACE  EMPLOYMENT_STATUS  PRCHLD  \\\n",
       "0        2292              8               1     1                  1       4   \n",
       "1        2293              8               1     1                  4       4   \n",
       "2        2294              8               1     1                  4       0   \n",
       "3        2295              8               1     1                 -1       0   \n",
       "4        2296             10               7     1                  4       0   \n",
       "\n",
       "   HOUSEHOLD_PURCHASES_GROCERIES  HOUSEHOLD_PURCHASES_RESTAURANTS  \\\n",
       "0                             -1                               -1   \n",
       "1                             -1                               -1   \n",
       "2                             -1                               -1   \n",
       "3                             -1                               -1   \n",
       "4                             -1                               30   \n",
       "\n",
       "   AMOUNT_NEEDED_TO_MEET_HOUSEHOLD_FOOD_NEED  \\\n",
       "0                                         -1   \n",
       "1                                         -1   \n",
       "2                                         -1   \n",
       "3                                         -1   \n",
       "4                                         20   \n",
       "\n",
       "   Y/N_RECEVIED_FOODBENEFITS_PAST12MONTHS  FOODSTAMPS_AMT_PERMONTH  \n",
       "0                                      -1                       -1  \n",
       "1                                      -1                       -1  \n",
       "2                                      -1                       -1  \n",
       "3                                      -1                       -1  \n",
       "4                                      -1                       -1  "
      ]
     },
     "execution_count": 48,
     "metadata": {},
     "output_type": "execute_result"
    }
   ],
   "source": [
    "#Checked for any null values and showed count, mean, std\n",
    "cps_df.isnull().values.any()\n",
    "cps_df.describe()\n",
    "cps_df.to_csv('/home/jovyan/team_27_final_project/cps_clean_table2019.csv')\n",
    "cps_df.head()"
   ]
  },
  {
   "cell_type": "code",
   "execution_count": 39,
   "metadata": {},
   "outputs": [],
   "source": [
    "#Reading in clean files\n",
    "cps_path = '/home/jovyan/team_27_final_project/' # Uncomment for Drea\n",
    "cps_csvfile = 'cps_clean_table2019.csv'\n",
    "cps2019_df = pd.read_csv(cps_path + cps_csvfile)"
   ]
  },
  {
   "cell_type": "code",
   "execution_count": 40,
   "metadata": {},
   "outputs": [
    {
     "data": {
      "text/html": [
       "<div>\n",
       "<style scoped>\n",
       "    .dataframe tbody tr th:only-of-type {\n",
       "        vertical-align: middle;\n",
       "    }\n",
       "\n",
       "    .dataframe tbody tr th {\n",
       "        vertical-align: top;\n",
       "    }\n",
       "\n",
       "    .dataframe thead th {\n",
       "        text-align: right;\n",
       "    }\n",
       "</style>\n",
       "<table border=\"1\" class=\"dataframe\">\n",
       "  <thead>\n",
       "    <tr style=\"text-align: right;\">\n",
       "      <th></th>\n",
       "      <th>Unnamed: 0</th>\n",
       "      <th>Unnamed: 0.1</th>\n",
       "      <th>FAMILY_INCOME</th>\n",
       "      <th>HOUSEHOLD_TYPE</th>\n",
       "      <th>RACE</th>\n",
       "      <th>EMPLOYMENT_STATUS</th>\n",
       "      <th>PRCHLD</th>\n",
       "      <th>HOUSEHOLD_PURCHASES_GROCERIES</th>\n",
       "      <th>HOUSEHOLD_PURCHASES_RESTAURANTS</th>\n",
       "      <th>AMOUNT_NEEDED_TO_MEET_HOUSEHOLD_FOOD_NEED</th>\n",
       "      <th>Y/N_RECEVIED_FOODBENEFITS_PAST12MONTHS</th>\n",
       "      <th>FOODSTAMPS_AMT_PERMONTH</th>\n",
       "    </tr>\n",
       "  </thead>\n",
       "  <tbody>\n",
       "    <tr>\n",
       "      <th>0</th>\n",
       "      <td>0</td>\n",
       "      <td>2292</td>\n",
       "      <td>8</td>\n",
       "      <td>1</td>\n",
       "      <td>1</td>\n",
       "      <td>1</td>\n",
       "      <td>4</td>\n",
       "      <td>-1</td>\n",
       "      <td>-1</td>\n",
       "      <td>-1</td>\n",
       "      <td>-1</td>\n",
       "      <td>-1</td>\n",
       "    </tr>\n",
       "    <tr>\n",
       "      <th>1</th>\n",
       "      <td>1</td>\n",
       "      <td>2293</td>\n",
       "      <td>8</td>\n",
       "      <td>1</td>\n",
       "      <td>1</td>\n",
       "      <td>4</td>\n",
       "      <td>4</td>\n",
       "      <td>-1</td>\n",
       "      <td>-1</td>\n",
       "      <td>-1</td>\n",
       "      <td>-1</td>\n",
       "      <td>-1</td>\n",
       "    </tr>\n",
       "    <tr>\n",
       "      <th>2</th>\n",
       "      <td>2</td>\n",
       "      <td>2294</td>\n",
       "      <td>8</td>\n",
       "      <td>1</td>\n",
       "      <td>1</td>\n",
       "      <td>4</td>\n",
       "      <td>0</td>\n",
       "      <td>-1</td>\n",
       "      <td>-1</td>\n",
       "      <td>-1</td>\n",
       "      <td>-1</td>\n",
       "      <td>-1</td>\n",
       "    </tr>\n",
       "    <tr>\n",
       "      <th>3</th>\n",
       "      <td>3</td>\n",
       "      <td>2295</td>\n",
       "      <td>8</td>\n",
       "      <td>1</td>\n",
       "      <td>1</td>\n",
       "      <td>-1</td>\n",
       "      <td>0</td>\n",
       "      <td>-1</td>\n",
       "      <td>-1</td>\n",
       "      <td>-1</td>\n",
       "      <td>-1</td>\n",
       "      <td>-1</td>\n",
       "    </tr>\n",
       "    <tr>\n",
       "      <th>4</th>\n",
       "      <td>4</td>\n",
       "      <td>2296</td>\n",
       "      <td>10</td>\n",
       "      <td>7</td>\n",
       "      <td>1</td>\n",
       "      <td>4</td>\n",
       "      <td>0</td>\n",
       "      <td>-1</td>\n",
       "      <td>30</td>\n",
       "      <td>20</td>\n",
       "      <td>-1</td>\n",
       "      <td>-1</td>\n",
       "    </tr>\n",
       "  </tbody>\n",
       "</table>\n",
       "</div>"
      ],
      "text/plain": [
       "   Unnamed: 0  Unnamed: 0.1  FAMILY_INCOME  HOUSEHOLD_TYPE  RACE  \\\n",
       "0           0          2292              8               1     1   \n",
       "1           1          2293              8               1     1   \n",
       "2           2          2294              8               1     1   \n",
       "3           3          2295              8               1     1   \n",
       "4           4          2296             10               7     1   \n",
       "\n",
       "   EMPLOYMENT_STATUS  PRCHLD  HOUSEHOLD_PURCHASES_GROCERIES  \\\n",
       "0                  1       4                             -1   \n",
       "1                  4       4                             -1   \n",
       "2                  4       0                             -1   \n",
       "3                 -1       0                             -1   \n",
       "4                  4       0                             -1   \n",
       "\n",
       "   HOUSEHOLD_PURCHASES_RESTAURANTS  AMOUNT_NEEDED_TO_MEET_HOUSEHOLD_FOOD_NEED  \\\n",
       "0                               -1                                         -1   \n",
       "1                               -1                                         -1   \n",
       "2                               -1                                         -1   \n",
       "3                               -1                                         -1   \n",
       "4                               30                                         20   \n",
       "\n",
       "   Y/N_RECEVIED_FOODBENEFITS_PAST12MONTHS  FOODSTAMPS_AMT_PERMONTH  \n",
       "0                                      -1                       -1  \n",
       "1                                      -1                       -1  \n",
       "2                                      -1                       -1  \n",
       "3                                      -1                       -1  \n",
       "4                                      -1                       -1  "
      ]
     },
     "execution_count": 40,
     "metadata": {},
     "output_type": "execute_result"
    }
   ],
   "source": [
    "cps2019_df.head()\n",
    "# When we finalize this we need to drop unnamed column and change name for unnamed 0.1 as it represents the family \n",
    "# number"
   ]
  },
  {
   "cell_type": "code",
   "execution_count": 42,
   "metadata": {},
   "outputs": [
    {
     "data": {
      "text/plain": [
       "<AxesSubplot:title={'center':'Family Income Plot'}, xlabel='FAMILY_INCOME'>"
      ]
     },
     "execution_count": 42,
     "metadata": {},
     "output_type": "execute_result"
    },
    {
     "data": {
      "image/png": "[encoded data removed]",
      "text/plain": [
       "<Figure size 1080x288 with 1 Axes>"
      ]
     },
     "metadata": {
      "needs_background": "light"
     },
     "output_type": "display_data"
    }
   ],
   "source": [
    "# Plotting based on family income\n",
    "plt.figure(figsize=(15,4))\n",
    "family_income = cps2019_df.groupby(cps2019_df['FAMILY_INCOME']).size()\n",
    "family_income.plot.bar(rot=15, title='Family Income Plot')\n",
    "# Key for family income:\n",
    "# We need to add a legend to the plots to show what the numbers represent\n",
    "# -1 represents no income/answer provided.  Don't remove\n",
    "#1 LESS THAN $5,000\n",
    "#2 5,000 TO 7,499\n",
    "#3 7,500 TO 9,999\n",
    "#4 10,000 TO 12,499\n",
    "#5 12,500 TO 14,999\n",
    "#6 15,000 TO 19,999\n",
    "#7 20,000 TO 24,999\n",
    "#8 25,000 TO 29,999\n",
    "#9 30,000 TO 34,999\n",
    "#10 35,000 TO 39,999\n",
    "#11 40,000 TO 49,999\n",
    "#12 50,000 TO 59,999\n",
    "#13 60,000 TO 74,999\n",
    "#14 75,000 TO 99,999\n",
    "#15 100,000 TO 149,999\n",
    "#16 150,000 OR MORE"
   ]
  },
  {
   "cell_type": "code",
   "execution_count": 43,
   "metadata": {},
   "outputs": [
    {
     "data": {
      "text/plain": [
       "<AxesSubplot:title={'center':'Family Income Plot'}, xlabel='FAMILY_INCOME'>"
      ]
     },
     "execution_count": 43,
     "metadata": {},
     "output_type": "execute_result"
    },
    {
     "data": {
      "image/png": "[encoded data removed]",
      "text/plain": [
       "<Figure size 1080x288 with 1 Axes>"
      ]
     },
     "metadata": {
      "needs_background": "light"
     },
     "output_type": "display_data"
    }
   ],
   "source": [
    "#Reading in clean files\n",
    "cps_path = '/home/jovyan/team_27_final_project/' # Uncomment for Drea\n",
    "cps_csvfile = 'cps_clean_table2020.csv'\n",
    "cps2020_df = pd.read_csv(cps_path + cps_csvfile)\n",
    "# Plotting based on family income\n",
    "plt.figure(figsize=(15,4))\n",
    "family_income_2020 = cps2020_df.groupby(cps2020_df['FAMILY_INCOME']).size()\n",
    "family_income_2020.plot.bar(rot=15, title='Family Income Plot')\n",
    "# Key for family income:\n",
    "# We need to add a legend to the plots to show what the numbers represent\n",
    "# -1 represents no income/answer provided.  Don't remove\n",
    "#1 LESS THAN $5,000\n",
    "#2 5,000 TO 7,499\n",
    "#3 7,500 TO 9,999\n",
    "#4 10,000 TO 12,499\n",
    "#5 12,500 TO 14,999\n",
    "#6 15,000 TO 19,999\n",
    "#7 20,000 TO 24,999\n",
    "#8 25,000 TO 29,999\n",
    "#9 30,000 TO 34,999\n",
    "#10 35,000 TO 39,999\n",
    "#11 40,000 TO 49,999\n",
    "#12 50,000 TO 59,999\n",
    "#13 60,000 TO 74,999\n",
    "#14 75,000 TO 99,999\n",
    "#15 100,000 TO 149,999\n",
    "#16 150,000 OR MORE"
   ]
  },
  {
   "cell_type": "code",
   "execution_count": 49,
   "metadata": {},
   "outputs": [
    {
     "data": {
      "text/plain": [
       "<AxesSubplot:title={'center':'Children Present Plot'}, xlabel='PRCHLD'>"
      ]
     },
     "execution_count": 49,
     "metadata": {},
     "output_type": "execute_result"
    },
    {
     "data": {
      "image/png": "[encoded data removed]",
      "text/plain": [
       "<Figure size 1080x288 with 1 Axes>"
      ]
     },
     "metadata": {
      "needs_background": "light"
     },
     "output_type": "display_data"
    }
   ],
   "source": [
    "plt.figure(figsize=(15,4))\n",
    "child_present = cps2019_df.groupby(cps2019_df['PRCHLD']).size()\n",
    "child_present.plot.bar(rot=15, title='Children Present Plot')\n",
    "#Child Present\n",
    "#-1 NIU (Not a parent)\n",
    "#0 No own children under 18 years of age\n",
    "#1 All own children 0- 2 years of age\n",
    "#2 All own children 3- 5 years of age\n",
    "#3 All own children 6-13 years of age\n",
    "#4 All own children 14-17 years of age\n",
    "#5 Own children 0- 2 and 3- 5 years of age (none 6-17)\n",
    "#6 Own children 0- 2 and 6-13 years of age (none 3- 5 or 14-17)\n",
    "#7 Own children 0- 2 and 14-17 years of age (none 3-13)\n",
    "#8 Own children 3- 5 and 6-13 years of age (none 0- 2 or 14-17)\n",
    "#9 Own children 3- 5 and 14-17 years of age (none 0- 2 or 6-13)\n",
    "# 10 Own children 6-13 and 14-17 years of age (none 0- 5)\n",
    "# 11 Own children 0- 2, 3- 5, and 6-13 years of age (none 14-17)\n",
    "# 12 Own children 0- 2, 3- 5, and 14-17 years of age (none 6-13)\n",
    "# 13 Own children 0- 2, 6-13, and 14-17 years of age (none 3- 5)\n",
    "# 14 Own children 3- 5, 6-13, and 14-17"
   ]
  },
  {
   "cell_type": "code",
   "execution_count": 50,
   "metadata": {},
   "outputs": [
    {
     "data": {
      "text/plain": [
       "<AxesSubplot:title={'center':'Employment Status Plot'}, xlabel='EMPLOYMENT_STATUS'>"
      ]
     },
     "execution_count": 50,
     "metadata": {},
     "output_type": "execute_result"
    },
    {
     "data": {
      "image/png": "[encoded data removed]",
      "text/plain": [
       "<Figure size 1080x288 with 1 Axes>"
      ]
     },
     "metadata": {
      "needs_background": "light"
     },
     "output_type": "display_data"
    }
   ],
   "source": [
    "plt.figure(figsize=(15,4))\n",
    "employment_status = cps2019_df.groupby(cps2019_df['EMPLOYMENT_STATUS']).size()\n",
    "employment_status.plot.bar(rot=15, title='Employment Status Plot')"
   ]
  },
  {
   "cell_type": "code",
   "execution_count": 51,
   "metadata": {},
   "outputs": [
    {
     "data": {
      "text/plain": [
       "<AxesSubplot:title={'center':'Buys Groceries Plot'}, xlabel='HOUSEHOLD_PURCHASES_GROCERIES'>"
      ]
     },
     "execution_count": 51,
     "metadata": {},
     "output_type": "execute_result"
    },
    {
     "data": {
      "image/png": "[encoded data removed]",
      "text/plain": [
       "<Figure size 1080x288 with 1 Axes>"
      ]
     },
     "metadata": {
      "needs_background": "light"
     },
     "output_type": "display_data"
    }
   ],
   "source": [
    "plt.figure(figsize=(15,4))\n",
    "household_purchases_groceries = cps2019_df.groupby(cps2019_df['HOUSEHOLD_PURCHASES_GROCERIES']).size()\n",
    "household_purchases_groceries.plot.bar(rot=15, title='Buys Groceries Plot')"
   ]
  },
  {
   "cell_type": "code",
   "execution_count": 54,
   "metadata": {},
   "outputs": [
    {
     "data": {
      "text/plain": [
       "<AxesSubplot:title={'center':'Eat Out Plot'}, xlabel='HOUSEHOLD_PURCHASES_RESTAURANTS'>"
      ]
     },
     "execution_count": 54,
     "metadata": {},
     "output_type": "execute_result"
    },
    {
     "data": {
      "image/png": "[encoded data removed]",
      "text/plain": [
       "<Figure size 1080x288 with 1 Axes>"
      ]
     },
     "metadata": {
      "needs_background": "light"
     },
     "output_type": "display_data"
    }
   ],
   "source": [
    "plt.figure(figsize=(15,4))\n",
    "restaurants = cps2019_df.groupby(cps2019_df['HOUSEHOLD_PURCHASES_RESTAURANTS']).size()\n",
    "restaurants.plot.bar(rot=15, title='Eat Out Plot')"
   ]
  },
  {
   "cell_type": "code",
   "execution_count": 52,
   "metadata": {},
   "outputs": [
    {
     "data": {
      "text/plain": [
       "<AxesSubplot:title={'center':'Food Benefits Plot'}, xlabel='Y/N_RECEVIED_FOODBENEFITS_PAST12MONTHS'>"
      ]
     },
     "execution_count": 52,
     "metadata": {},
     "output_type": "execute_result"
    },
    {
     "data": {
      "image/png": "[encoded data removed]",
      "text/plain": [
       "<Figure size 1080x288 with 1 Axes>"
      ]
     },
     "metadata": {
      "needs_background": "light"
     },
     "output_type": "display_data"
    }
   ],
   "source": [
    "plt.figure(figsize=(15,4))\n",
    "food_benefits = cps2019_df.groupby(cps2019_df['Y/N_RECEVIED_FOODBENEFITS_PAST12MONTHS']).size()\n",
    "food_benefits.plot.bar(rot=15, title='Food Benefits Plot')"
   ]
  },
  {
   "cell_type": "code",
   "execution_count": 53,
   "metadata": {},
   "outputs": [
    {
     "data": {
      "text/plain": [
       "<AxesSubplot:title={'center':'Food Stamp Amount Plot'}, xlabel='FOODSTAMPS_AMT_PERMONTH'>"
      ]
     },
     "execution_count": 53,
     "metadata": {},
     "output_type": "execute_result"
    },
    {
     "data": {
      "image/png": "[encoded data removed]",
      "text/plain": [
       "<Figure size 1080x288 with 1 Axes>"
      ]
     },
     "metadata": {
      "needs_background": "light"
     },
     "output_type": "display_data"
    }
   ],
   "source": [
    "plt.figure(figsize=(15,4))\n",
    "stamp_amount = cps2019_df.groupby(cps2019_df['FOODSTAMPS_AMT_PERMONTH']).size()\n",
    "stamp_amount.plot.bar(rot=15, title='Food Stamp Amount Plot')"
   ]
  },
  {
   "cell_type": "code",
   "execution_count": null,
   "metadata": {},
   "outputs": [],
   "source": []
  }
 ],
 "metadata": {
  "kernelspec": {
   "display_name": "Python 3",
   "language": "python",
   "name": "python3"
  },
  "language_info": {
   "codemirror_mode": {
    "name": "ipython",
    "version": 3
   },
   "file_extension": ".py",
   "mimetype": "text/x-python",
   "name": "python",
   "nbconvert_exporter": "python",
   "pygments_lexer": "ipython3",
   "version": "3.8.8"
  },
  "latex_envs": {
   "LaTeX_envs_menu_present": true,
   "autoclose": false,
   "autocomplete": true,
   "bibliofile": "biblio.bib",
   "cite_by": "apalike",
   "current_citInitial": 1,
   "eqLabelWithNumbers": true,
   "eqNumInitial": 1,
   "hotkeys": {
    "equation": "Ctrl-E",
    "itemize": "Ctrl-I"
   },
   "labels_anchors": false,
   "latex_user_defs": false,
   "report_style_numbering": false,
   "user_envs_cfg": false
  }
 },
 "nbformat": 4,
 "nbformat_minor": 2
}
