{
 "cells": [
  {
   "cell_type": "markdown",
   "metadata": {},
   "source": [
    "# Exploratory Data Analysis\n",
    "## Group 27\n",
    "### January 2022"
   ]
  },
  {
   "cell_type": "markdown",
   "metadata": {},
   "source": [
    "With your datasets sourced and cleaned now you will begin exploring the data. This entails performing Exploratory Data Analysis (EDA). EDA is used to understand and summarize the contents of a dataset. In this case, EDA will be used to help you investigate the specific questions for the business problem proposed for your capstone project. EDA relies heavily on visualizing the data to assess patterns and identify data characteristics. Please use the **Six Steps of Exploratory Data Analysis** outlined below to help guide your work. Refer back to your project scoping document where you have outlined the specific business problems you are looking to solve."
   ]
  },
  {
   "cell_type": "markdown",
   "metadata": {},
   "source": [
    "Selecting columns of interest and target feature(s)\n",
    "* Which columns in your data sets will help you answer the questions posed by\n",
    "your problem statement? \n",
    "* Which columns represent the key pieces of information you want to examine (i.e.\n",
    "your target variables)?\n",
    "* How many numerical, textual, datetime etc. columns are in your dataset?\n",
    "* Pick out any similar columns among your disparate data sets for potential linking\n",
    "later on on the EDA process\n",
    "\n",
    "Explore Individual columns for preliminary insights\n",
    "* How many null values are present in your data (what percentage)?\n",
    "* Plot one-dimensional distributions of numerical columns (ex. histograms) and\n",
    "observe the overall shape of the data (i.e. normal distribution, skewed,\n",
    "multimodal, discontinuous\n",
    "* Compute basic statistics of numerical columns\n",
    "* Calculate subgroup size of text/categorical data (such as the pd.value_counts()\n",
    "method)\n",
    "* Explore any date/datetime columns for basic trends. How long is the period of\n",
    "time covered by the dataset? Do any seasonality trends immediately become\n",
    "apparent?\n",
    "\n",
    " Plot two-dimensional distributions of your variables of interest against your target\n",
    "variable(s).\n",
    "* Across different values of your independent variable, how does the dependent\n",
    "variable change?\n",
    "* Which interactions of variables provide the most interesting insights?\n",
    "* What trends do you see in the data? Do they support or contradict the hypothesis\n",
    "of your problem statement?\n",
    "\n",
    "Analyze any correlations between your independent and dependent variables\n",
    "* Understand and resolve surprising correlations between these variables, and use this information to validate your initial hypothesis.\n",
    "\n",
    "Craft a compelling story from the work you’ve done in the previous steps\n",
    "* Which charts, graphs, and tables provide the most compelling evidence in\n",
    "support of your project idea?\n",
    "* If your data analysis has largely disproved your initial hypothesis, can you craft a\n",
    "narrative for this alternative?\n"
   ]
  },
  {
   "cell_type": "code",
   "execution_count": 3,
   "metadata": {},
   "outputs": [],
   "source": [
    "# Packages\n",
    "import json\n",
    "import pandas as pd\n",
    "import matplotlib.pyplot as plt\n",
    "import seaborn as sns\n",
    "import numpy as np\n",
    "import base64"
   ]
  },
  {
   "cell_type": "markdown",
   "metadata": {},
   "source": [
    "#### Reading Datasets"
   ]
  },
  {
   "cell_type": "code",
   "execution_count": 6,
   "metadata": {},
   "outputs": [],
   "source": [
    "# Read CPS\n",
    "cps_path = '../../datasets/Mississipi/'\n",
    "# cps_path = '/home/jovyan/' # Uncomment for Drea\n",
    "cps_csvfile = 'CPS_2019Data_MS.csv'\n",
    "cps_df = pd.read_csv(cps_path + cps_csvfile)"
   ]
  },
  {
   "cell_type": "markdown",
   "metadata": {},
   "source": [
    "## CPS First exploration"
   ]
  },
  {
   "cell_type": "code",
   "execution_count": 7,
   "metadata": {},
   "outputs": [
    {
     "name": "stdout",
     "output_type": "stream",
     "text": [
      "<class 'pandas.core.frame.DataFrame'>\n",
      "RangeIndex: 2692 entries, 0 to 2691\n",
      "Data columns (total 11 columns):\n",
      " #   Column      Non-Null Count  Dtype\n",
      "---  ------      --------------  -----\n",
      " 0   Unnamed: 0  2692 non-null   int64\n",
      " 1   HEFAMINC    2692 non-null   int64\n",
      " 2   HRHTYPE     2692 non-null   int64\n",
      " 3   PTDTRACE    2692 non-null   int64\n",
      " 4   PREMPNOT    2692 non-null   int64\n",
      " 5   PRCHLD      2692 non-null   int64\n",
      " 6   HETS2O      2692 non-null   int64\n",
      " 7   HETS6O      2692 non-null   int64\n",
      " 8   HETS8CO     2692 non-null   int64\n",
      " 9   HESP1       2692 non-null   int64\n",
      " 10  HETSP3O     2692 non-null   int64\n",
      "dtypes: int64(11)\n",
      "memory usage: 231.5 KB\n"
     ]
    }
   ],
   "source": [
    "cps_df.info()"
   ]
  },
  {
   "cell_type": "code",
   "execution_count": 8,
   "metadata": {},
   "outputs": [
    {
     "data": {
      "text/html": [
       "<div>\n",
       "<style scoped>\n",
       "    .dataframe tbody tr th:only-of-type {\n",
       "        vertical-align: middle;\n",
       "    }\n",
       "\n",
       "    .dataframe tbody tr th {\n",
       "        vertical-align: top;\n",
       "    }\n",
       "\n",
       "    .dataframe thead th {\n",
       "        text-align: right;\n",
       "    }\n",
       "</style>\n",
       "<table border=\"1\" class=\"dataframe\">\n",
       "  <thead>\n",
       "    <tr style=\"text-align: right;\">\n",
       "      <th></th>\n",
       "      <th>Unnamed: 0</th>\n",
       "      <th>HEFAMINC</th>\n",
       "      <th>HRHTYPE</th>\n",
       "      <th>PTDTRACE</th>\n",
       "      <th>PREMPNOT</th>\n",
       "      <th>PRCHLD</th>\n",
       "      <th>HETS2O</th>\n",
       "      <th>HETS6O</th>\n",
       "      <th>HETS8CO</th>\n",
       "      <th>HESP1</th>\n",
       "      <th>HETSP3O</th>\n",
       "    </tr>\n",
       "  </thead>\n",
       "  <tbody>\n",
       "    <tr>\n",
       "      <th>0</th>\n",
       "      <td>2292</td>\n",
       "      <td>8</td>\n",
       "      <td>1</td>\n",
       "      <td>1</td>\n",
       "      <td>1</td>\n",
       "      <td>4</td>\n",
       "      <td>-1</td>\n",
       "      <td>-1</td>\n",
       "      <td>-1</td>\n",
       "      <td>-1</td>\n",
       "      <td>-1</td>\n",
       "    </tr>\n",
       "    <tr>\n",
       "      <th>1</th>\n",
       "      <td>2293</td>\n",
       "      <td>8</td>\n",
       "      <td>1</td>\n",
       "      <td>1</td>\n",
       "      <td>4</td>\n",
       "      <td>4</td>\n",
       "      <td>-1</td>\n",
       "      <td>-1</td>\n",
       "      <td>-1</td>\n",
       "      <td>-1</td>\n",
       "      <td>-1</td>\n",
       "    </tr>\n",
       "    <tr>\n",
       "      <th>2</th>\n",
       "      <td>2294</td>\n",
       "      <td>8</td>\n",
       "      <td>1</td>\n",
       "      <td>1</td>\n",
       "      <td>4</td>\n",
       "      <td>0</td>\n",
       "      <td>-1</td>\n",
       "      <td>-1</td>\n",
       "      <td>-1</td>\n",
       "      <td>-1</td>\n",
       "      <td>-1</td>\n",
       "    </tr>\n",
       "    <tr>\n",
       "      <th>3</th>\n",
       "      <td>2295</td>\n",
       "      <td>8</td>\n",
       "      <td>1</td>\n",
       "      <td>1</td>\n",
       "      <td>-1</td>\n",
       "      <td>0</td>\n",
       "      <td>-1</td>\n",
       "      <td>-1</td>\n",
       "      <td>-1</td>\n",
       "      <td>-1</td>\n",
       "      <td>-1</td>\n",
       "    </tr>\n",
       "    <tr>\n",
       "      <th>4</th>\n",
       "      <td>2296</td>\n",
       "      <td>10</td>\n",
       "      <td>7</td>\n",
       "      <td>1</td>\n",
       "      <td>4</td>\n",
       "      <td>0</td>\n",
       "      <td>-1</td>\n",
       "      <td>30</td>\n",
       "      <td>20</td>\n",
       "      <td>-1</td>\n",
       "      <td>-1</td>\n",
       "    </tr>\n",
       "  </tbody>\n",
       "</table>\n",
       "</div>"
      ],
      "text/plain": [
       "   Unnamed: 0  HEFAMINC  HRHTYPE  PTDTRACE  PREMPNOT  PRCHLD  HETS2O  HETS6O  \\\n",
       "0        2292         8        1         1         1       4      -1      -1   \n",
       "1        2293         8        1         1         4       4      -1      -1   \n",
       "2        2294         8        1         1         4       0      -1      -1   \n",
       "3        2295         8        1         1        -1       0      -1      -1   \n",
       "4        2296        10        7         1         4       0      -1      30   \n",
       "\n",
       "   HETS8CO  HESP1  HETSP3O  \n",
       "0       -1     -1       -1  \n",
       "1       -1     -1       -1  \n",
       "2       -1     -1       -1  \n",
       "3       -1     -1       -1  \n",
       "4       20     -1       -1  "
      ]
     },
     "execution_count": 8,
     "metadata": {},
     "output_type": "execute_result"
    }
   ],
   "source": [
    "cps_df.head()"
   ]
  },
  {
   "cell_type": "code",
   "execution_count": 9,
   "metadata": {},
   "outputs": [],
   "source": [
    "# Creating a list of 10 columns that we are going to keep\n",
    "cps_df = cps_df.rename(columns={'HEFAMIC':'FAMILY_INCOME','HRHTYPE':'HOUSEHOLD_TYPE', \n",
    "                        'PTDTRACE':'RACE', 'PREMPNOT':'EMPLOYMENT_STATUS', \n",
    "                        'PRCHILD':'PRESENCE_OF_CHILDREN_<18YO', 'HETS20':'HOUSEHOLD_PURCHASES_GROCERIES', \n",
    "                        'HETS60':'HOUSEHOLD_PURCHASES_RESTAURANTS', \n",
    "                        'HETS8CO': 'AMOUNT_NEEDED_TO_MEET_HOUSEHOLD_FOOD_NEED', \n",
    "                        'HETSP30':'FOODSTAMPS_AMT_PERMONTH', 'HESP1':'Y/N_RECEVIED_FOODBENEFITS_PAST12MONTHS'})"
   ]
  },
  {
   "cell_type": "code",
   "execution_count": 10,
   "metadata": {},
   "outputs": [
    {
     "name": "stdout",
     "output_type": "stream",
     "text": [
      "<class 'pandas.core.frame.DataFrame'>\n",
      "RangeIndex: 2692 entries, 0 to 2691\n",
      "Data columns (total 11 columns):\n",
      " #   Column                                     Non-Null Count  Dtype\n",
      "---  ------                                     --------------  -----\n",
      " 0   Unnamed: 0                                 2692 non-null   int64\n",
      " 1   HEFAMINC                                   2692 non-null   int64\n",
      " 2   HOUSEHOLD_TYPE                             2692 non-null   int64\n",
      " 3   RACE                                       2692 non-null   int64\n",
      " 4   EMPLOYMENT_STATUS                          2692 non-null   int64\n",
      " 5   PRCHLD                                     2692 non-null   int64\n",
      " 6   HETS2O                                     2692 non-null   int64\n",
      " 7   HETS6O                                     2692 non-null   int64\n",
      " 8   AMOUNT_NEEDED_TO_MEET_HOUSEHOLD_FOOD_NEED  2692 non-null   int64\n",
      " 9   Y/N_RECEVIED_FOODBENEFITS_PAST12MONTHS     2692 non-null   int64\n",
      " 10  HETSP3O                                    2692 non-null   int64\n",
      "dtypes: int64(11)\n",
      "memory usage: 231.5 KB\n"
     ]
    }
   ],
   "source": [
    "cps_df.info()"
   ]
  },
  {
   "cell_type": "code",
   "execution_count": 12,
   "metadata": {},
   "outputs": [],
   "source": [
    "## We don't need the following lines any more. \n",
    "## Dropped uneccesary columns and saved to new dataset\n",
    "# cps_clean_df = cps_df.drop(columns=['GTCO','GTCBSASZ','GTCSA','HES8B','HETS8DO','HES9','HESP6','HESP7','HESP7A','HESP8',\n",
    "#             'HETSP9','HESS1','HESS2','HESS3','HESS4','HESH2','HESHF2','HESHM2','HESS5','HESS6','HESH1','HESSH2']) "
   ]
  },
  {
   "cell_type": "code",
   "execution_count": 47,
   "metadata": {},
   "outputs": [
    {
     "data": {
      "text/html": [
       "<div>\n",
       "<style scoped>\n",
       "    .dataframe tbody tr th:only-of-type {\n",
       "        vertical-align: middle;\n",
       "    }\n",
       "\n",
       "    .dataframe tbody tr th {\n",
       "        vertical-align: top;\n",
       "    }\n",
       "\n",
       "    .dataframe thead th {\n",
       "        text-align: right;\n",
       "    }\n",
       "</style>\n",
       "<table border=\"1\" class=\"dataframe\">\n",
       "  <thead>\n",
       "    <tr style=\"text-align: right;\">\n",
       "      <th></th>\n",
       "      <th>Unnamed: 0</th>\n",
       "      <th>HRYEAR4</th>\n",
       "      <th>HOUSEHOLD TYPE</th>\n",
       "      <th>RACE</th>\n",
       "      <th>EMPLOYMENT_STATUS</th>\n",
       "      <th>AMOUNT_NEEDED_TO_MEET_HOUSEHOLD_FOOD_NEED</th>\n",
       "      <th>Y/N_RECEVIED_FOODBENEFITS_PAST12MONTHS</th>\n",
       "    </tr>\n",
       "  </thead>\n",
       "  <tbody>\n",
       "    <tr>\n",
       "      <th>0</th>\n",
       "      <td>2981</td>\n",
       "      <td>2020</td>\n",
       "      <td>0</td>\n",
       "      <td>-1</td>\n",
       "      <td>-1</td>\n",
       "      <td>-1</td>\n",
       "      <td>-1</td>\n",
       "    </tr>\n",
       "    <tr>\n",
       "      <th>1</th>\n",
       "      <td>2982</td>\n",
       "      <td>2020</td>\n",
       "      <td>7</td>\n",
       "      <td>2</td>\n",
       "      <td>1</td>\n",
       "      <td>-1</td>\n",
       "      <td>2</td>\n",
       "    </tr>\n",
       "    <tr>\n",
       "      <th>2</th>\n",
       "      <td>2983</td>\n",
       "      <td>2020</td>\n",
       "      <td>1</td>\n",
       "      <td>2</td>\n",
       "      <td>4</td>\n",
       "      <td>-1</td>\n",
       "      <td>2</td>\n",
       "    </tr>\n",
       "    <tr>\n",
       "      <th>3</th>\n",
       "      <td>2984</td>\n",
       "      <td>2020</td>\n",
       "      <td>1</td>\n",
       "      <td>2</td>\n",
       "      <td>4</td>\n",
       "      <td>-1</td>\n",
       "      <td>2</td>\n",
       "    </tr>\n",
       "    <tr>\n",
       "      <th>4</th>\n",
       "      <td>2985</td>\n",
       "      <td>2020</td>\n",
       "      <td>0</td>\n",
       "      <td>-1</td>\n",
       "      <td>-1</td>\n",
       "      <td>-1</td>\n",
       "      <td>-1</td>\n",
       "    </tr>\n",
       "  </tbody>\n",
       "</table>\n",
       "</div>"
      ],
      "text/plain": [
       "   Unnamed: 0  HRYEAR4  HOUSEHOLD TYPE  RACE  EMPLOYMENT_STATUS  \\\n",
       "0        2981     2020               0    -1                 -1   \n",
       "1        2982     2020               7     2                  1   \n",
       "2        2983     2020               1     2                  4   \n",
       "3        2984     2020               1     2                  4   \n",
       "4        2985     2020               0    -1                 -1   \n",
       "\n",
       "   AMOUNT_NEEDED_TO_MEET_HOUSEHOLD_FOOD_NEED  \\\n",
       "0                                         -1   \n",
       "1                                         -1   \n",
       "2                                         -1   \n",
       "3                                         -1   \n",
       "4                                         -1   \n",
       "\n",
       "   Y/N_RECEVIED_FOODBENEFITS_PAST12MONTHS  \n",
       "0                                      -1  \n",
       "1                                       2  \n",
       "2                                       2  \n",
       "3                                       2  \n",
       "4                                      -1  "
      ]
     },
     "execution_count": 47,
     "metadata": {},
     "output_type": "execute_result"
    }
   ],
   "source": [
    "#Checked for any null values and showed count, mean, std\n",
    "cps_clean_df.isnull().values.any()\n",
    "cps_clean_df.describe()\n",
    "cps_clean_df.to_csv('/home/jovyan/cps_clean_table.csv')\n",
    "cps_clean_df.head()"
   ]
  },
  {
   "cell_type": "code",
   "execution_count": 48,
   "metadata": {},
   "outputs": [
    {
     "data": {
      "text/plain": [
       "array([[<AxesSubplot:title={'center':'Unnamed: 0'}>,\n",
       "        <AxesSubplot:title={'center':'HRYEAR4'}>,\n",
       "        <AxesSubplot:title={'center':'HOUSEHOLD TYPE'}>],\n",
       "       [<AxesSubplot:title={'center':'RACE'}>,\n",
       "        <AxesSubplot:title={'center':'EMPLOYMENT_STATUS'}>,\n",
       "        <AxesSubplot:title={'center':'AMOUNT_NEEDED_TO_MEET_HOUSEHOLD_FOOD_NEED'}>],\n",
       "       [<AxesSubplot:title={'center':'Y/N_RECEVIED_FOODBENEFITS_PAST12MONTHS'}>,\n",
       "        <AxesSubplot:>, <AxesSubplot:>]], dtype=object)"
      ]
     },
     "execution_count": 48,
     "metadata": {},
     "output_type": "execute_result"
    },
    {
     "data": {
      "image/png": "[encoded data removed]",
      "text/plain": [
       "<Figure size 432x288 with 9 Axes>"
      ]
     },
     "metadata": {
      "needs_background": "light"
     },
     "output_type": "display_data"
    }
   ],
   "source": []
  },
  {
   "cell_type": "code",
   "execution_count": null,
   "metadata": {},
   "outputs": [],
   "source": []
  },
  {
   "cell_type": "code",
   "execution_count": null,
   "metadata": {},
   "outputs": [],
   "source": []
  }
 ],
 "metadata": {
  "kernelspec": {
   "display_name": "Python 3",
   "language": "python",
   "name": "python3"
  },
  "language_info": {
   "codemirror_mode": {
    "name": "ipython",
    "version": 3
   },
   "file_extension": ".py",
   "mimetype": "text/x-python",
   "name": "python",
   "nbconvert_exporter": "python",
   "pygments_lexer": "ipython3",
   "version": "3.7.4"
  },
  "latex_envs": {
   "LaTeX_envs_menu_present": true,
   "autoclose": false,
   "autocomplete": true,
   "bibliofile": "biblio.bib",
   "cite_by": "apalike",
   "current_citInitial": 1,
   "eqLabelWithNumbers": true,
   "eqNumInitial": 1,
   "hotkeys": {
    "equation": "Ctrl-E",
    "itemize": "Ctrl-I"
   },
   "labels_anchors": false,
   "latex_user_defs": false,
   "report_style_numbering": false,
   "user_envs_cfg": false
  }
 },
 "nbformat": 4,
 "nbformat_minor": 2
}
