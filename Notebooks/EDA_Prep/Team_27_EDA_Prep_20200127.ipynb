{
 "cells": [
  {
   "cell_type": "markdown",
   "metadata": {},
   "source": [
    "# Exploratory Data Analysis\n",
    "## Group 27\n",
    "### January 2022"
   ]
  },
  {
   "cell_type": "markdown",
   "metadata": {},
   "source": [
    "With your datasets sourced and cleaned now you will begin exploring the data. This entails performing Exploratory Data Analysis (EDA). EDA is used to understand and summarize the contents of a dataset. In this case, EDA will be used to help you investigate the specific questions for the business problem proposed for your capstone project. EDA relies heavily on visualizing the data to assess patterns and identify data characteristics. Please use the **Six Steps of Exploratory Data Analysis** outlined below to help guide your work. Refer back to your project scoping document where you have outlined the specific business problems you are looking to solve."
   ]
  },
  {
   "cell_type": "markdown",
   "metadata": {},
   "source": [
    "Selecting columns of interest and target feature(s)\n",
    "* Which columns in your data sets will help you answer the questions posed by\n",
    "your problem statement? \n",
    "\n",
    "Answer: \n",
    "These columns are sourced for CPS-FSS 2019/20 data\n",
    "1. Family income\n",
    "2. Year\n",
    "3. Household type\n",
    "4. Race\n",
    "5. Employment status\n",
    "6. Presence of own children <18\n",
    "7. Amount of money spent by households on purchases at supermarkets\n",
    "8. Amount spent by households for food at restaurants, fast food, cafeterias\n",
    "9. How much would you need to be spent each week to buy just enough food to meet household needs\n",
    "10. Dollar amount of food stamps received per month\n",
    "11. Did you receive SNAP benefits in the past 12 months\n",
    "----------------------------\n",
    "\n",
    "* Which columns represent the key pieces of information you want to examine (i.e.\n",
    "your target variables)?\n",
    "\n",
    "Answer: Family income, race, children present in the household, SNAP benefits\n",
    "\n",
    "---------------\n",
    "\n",
    "* How many numerical, textual, datetime etc. columns are in your dataset?\n",
    "\n",
    "Answer: Its all numerical data.\n",
    "\n",
    "----------------\n",
    "\n",
    "* Pick out any similar columns among your disparate data sets for potential linking\n",
    "later on on the EDA process\n",
    "\n",
    "Answer: We want to link family income, race and presence of children.\n",
    "\n",
    "----------------\n",
    "\n",
    "Explore Individual columns for preliminary insights\n",
    "* How many null values are present in your data (what percentage)?\n",
    "\n",
    "Answer: There are no values, however -1 was used to denote individuals that did not want to provide information. ie. income\n",
    "\n",
    "----------------\n",
    "\n",
    "* Plot one-dimensional distributions of numerical columns (ex. histograms) and\n",
    "observe the overall shape of the data (i.e. normal distribution, skewed,\n",
    "multimodal, discontinuous\n",
    "\n",
    "Answer: Table 1 is featured below.\n",
    "\n",
    "----------------\n",
    "\n",
    "* Compute basic statistics of numerical columns\n",
    "\n",
    "Answer: Featured below.\n",
    "\n",
    "----------------\n",
    "\n",
    "* Calculate subgroup size of text/categorical data (such as the pd.value_counts()\n",
    "method)\n",
    "\n",
    "Answer: At this point we don't have any categorical data. We will have it available in the future.\n",
    "\n",
    "----------------\n",
    "\n",
    "* Explore any date/datetime columns for basic trends. How long is the period of\n",
    "time covered by the dataset? Do any seasonality trends immediately become\n",
    "apparent?\n",
    "\n",
    "Answer: Data covers a year time span and isn't broken down monthly to reveal seasonality. The data is available in SQL format but we want to focus our current efforts on 2019/20.\n",
    "\n",
    "----------------\n",
    "\n",
    " Plot two-dimensional distributions of your variables of interest against your target\n",
    "variable(s).\n",
    "* Across different values of your independent variable, how does the dependent\n",
    "variable change?\n",
    "\n",
    "Answer: Using family income as our dependent variable, both Black and white populations show an income range on a wide\n",
    "spectrum. While other races have more localized income. A noted caveat, the number of Black and white populations is huge compared to other races, therefore its skewed towards the dominant populations. A histogram for each population \n",
    "may give us further information on their income.\n",
    "\n",
    "----------------\n",
    "\n",
    "* Which interactions of variables provide the most interesting insights?\n",
    "\n",
    "Answer: We can't make a proper analysis as we need to see the full breath of the scatterplot. \n",
    "\n",
    "----------------\n",
    "\n",
    "* What trends do you see in the data? Do they support or contradict the hypothesis\n",
    "of your problem statement?\n",
    "\n",
    "Answer: We can't make a proper analysis as we need to see the full breath of the scatterplot.\n",
    "\n",
    "----------------\n",
    "\n",
    "Analyze any correlations between your independent and dependent variables\n",
    "* Understand and resolve surprising correlations between these variables, and use this information to validate your initial hypothesis.\n",
    "\n",
    "Answer: We need to see an expanded scatterplot and/or histogram. Although, races outside of Black and white pop. aren't extremely low or high, they tether in the middle. There's no correlation at the moment.\n",
    "\n",
    "----------------\n",
    "\n",
    "Craft a compelling story from the work you’ve done in the previous steps\n",
    "* Which charts, graphs, and tables provide the most compelling evidence in\n",
    "support of your project idea?\n",
    "\n",
    "Answer: Bar charts have provided a basis from which we can expand our analysis.\n",
    "\n",
    "----------------\n",
    "\n",
    "* If your data analysis has largely disproved your initial hypothesis, can you craft a\n",
    "narrative for this alternative?\n",
    "\n",
    "Answer: Based on our current findings we're on the right track.\n",
    "\n",
    "----------------"
   ]
  },
  {
   "cell_type": "code",
   "execution_count": 1,
   "metadata": {},
   "outputs": [],
   "source": [
    "# Packages\n",
    "import json\n",
    "import pandas as pd\n",
    "import matplotlib.pyplot as plt\n",
    "import seaborn as sns\n",
    "import numpy as np\n",
    "import base64"
   ]
  },
  {
   "cell_type": "markdown",
   "metadata": {},
   "source": [
    "#### Reading Datasets"
   ]
  },
  {
   "cell_type": "code",
   "execution_count": 18,
   "metadata": {},
   "outputs": [],
   "source": [
    "# Read CPS\n",
    "cps_path = '../../datasets/Mississipi/'\n",
    "#cps_path = './' # Uncomment if you have your dataset in the same folder as this notebook\n",
    "cps_csvfile = 'CPS_2019Data_MS.csv'\n",
    "cps2019_df = pd.read_csv(cps_path + cps_csvfile)"
   ]
  },
  {
   "cell_type": "markdown",
   "metadata": {},
   "source": [
    "## CPS First exploration"
   ]
  },
  {
   "cell_type": "code",
   "execution_count": 19,
   "metadata": {},
   "outputs": [
    {
     "name": "stdout",
     "output_type": "stream",
     "text": [
      "<class 'pandas.core.frame.DataFrame'>\n",
      "RangeIndex: 2692 entries, 0 to 2691\n",
      "Data columns (total 11 columns):\n",
      " #   Column      Non-Null Count  Dtype\n",
      "---  ------      --------------  -----\n",
      " 0   Unnamed: 0  2692 non-null   int64\n",
      " 1   HEFAMINC    2692 non-null   int64\n",
      " 2   HRHTYPE     2692 non-null   int64\n",
      " 3   PTDTRACE    2692 non-null   int64\n",
      " 4   PREMPNOT    2692 non-null   int64\n",
      " 5   PRCHLD      2692 non-null   int64\n",
      " 6   HETS2O      2692 non-null   int64\n",
      " 7   HETS6O      2692 non-null   int64\n",
      " 8   HETS8CO     2692 non-null   int64\n",
      " 9   HESP1       2692 non-null   int64\n",
      " 10  HETSP3O     2692 non-null   int64\n",
      "dtypes: int64(11)\n",
      "memory usage: 231.5 KB\n"
     ]
    }
   ],
   "source": [
    "cps2019_df.info()"
   ]
  },
  {
   "cell_type": "code",
   "execution_count": 20,
   "metadata": {},
   "outputs": [
    {
     "data": {
      "text/html": [
       "<div>\n",
       "<style scoped>\n",
       "    .dataframe tbody tr th:only-of-type {\n",
       "        vertical-align: middle;\n",
       "    }\n",
       "\n",
       "    .dataframe tbody tr th {\n",
       "        vertical-align: top;\n",
       "    }\n",
       "\n",
       "    .dataframe thead th {\n",
       "        text-align: right;\n",
       "    }\n",
       "</style>\n",
       "<table border=\"1\" class=\"dataframe\">\n",
       "  <thead>\n",
       "    <tr style=\"text-align: right;\">\n",
       "      <th></th>\n",
       "      <th>Unnamed: 0</th>\n",
       "      <th>HEFAMINC</th>\n",
       "      <th>HRHTYPE</th>\n",
       "      <th>PTDTRACE</th>\n",
       "      <th>PREMPNOT</th>\n",
       "      <th>PRCHLD</th>\n",
       "      <th>HETS2O</th>\n",
       "      <th>HETS6O</th>\n",
       "      <th>HETS8CO</th>\n",
       "      <th>HESP1</th>\n",
       "      <th>HETSP3O</th>\n",
       "    </tr>\n",
       "  </thead>\n",
       "  <tbody>\n",
       "    <tr>\n",
       "      <th>0</th>\n",
       "      <td>2292</td>\n",
       "      <td>8</td>\n",
       "      <td>1</td>\n",
       "      <td>1</td>\n",
       "      <td>1</td>\n",
       "      <td>4</td>\n",
       "      <td>-1</td>\n",
       "      <td>-1</td>\n",
       "      <td>-1</td>\n",
       "      <td>-1</td>\n",
       "      <td>-1</td>\n",
       "    </tr>\n",
       "    <tr>\n",
       "      <th>1</th>\n",
       "      <td>2293</td>\n",
       "      <td>8</td>\n",
       "      <td>1</td>\n",
       "      <td>1</td>\n",
       "      <td>4</td>\n",
       "      <td>4</td>\n",
       "      <td>-1</td>\n",
       "      <td>-1</td>\n",
       "      <td>-1</td>\n",
       "      <td>-1</td>\n",
       "      <td>-1</td>\n",
       "    </tr>\n",
       "    <tr>\n",
       "      <th>2</th>\n",
       "      <td>2294</td>\n",
       "      <td>8</td>\n",
       "      <td>1</td>\n",
       "      <td>1</td>\n",
       "      <td>4</td>\n",
       "      <td>0</td>\n",
       "      <td>-1</td>\n",
       "      <td>-1</td>\n",
       "      <td>-1</td>\n",
       "      <td>-1</td>\n",
       "      <td>-1</td>\n",
       "    </tr>\n",
       "    <tr>\n",
       "      <th>3</th>\n",
       "      <td>2295</td>\n",
       "      <td>8</td>\n",
       "      <td>1</td>\n",
       "      <td>1</td>\n",
       "      <td>-1</td>\n",
       "      <td>0</td>\n",
       "      <td>-1</td>\n",
       "      <td>-1</td>\n",
       "      <td>-1</td>\n",
       "      <td>-1</td>\n",
       "      <td>-1</td>\n",
       "    </tr>\n",
       "    <tr>\n",
       "      <th>4</th>\n",
       "      <td>2296</td>\n",
       "      <td>10</td>\n",
       "      <td>7</td>\n",
       "      <td>1</td>\n",
       "      <td>4</td>\n",
       "      <td>0</td>\n",
       "      <td>-1</td>\n",
       "      <td>30</td>\n",
       "      <td>20</td>\n",
       "      <td>-1</td>\n",
       "      <td>-1</td>\n",
       "    </tr>\n",
       "  </tbody>\n",
       "</table>\n",
       "</div>"
      ],
      "text/plain": [
       "   Unnamed: 0  HEFAMINC  HRHTYPE  PTDTRACE  PREMPNOT  PRCHLD  HETS2O  HETS6O  \\\n",
       "0        2292         8        1         1         1       4      -1      -1   \n",
       "1        2293         8        1         1         4       4      -1      -1   \n",
       "2        2294         8        1         1         4       0      -1      -1   \n",
       "3        2295         8        1         1        -1       0      -1      -1   \n",
       "4        2296        10        7         1         4       0      -1      30   \n",
       "\n",
       "   HETS8CO  HESP1  HETSP3O  \n",
       "0       -1     -1       -1  \n",
       "1       -1     -1       -1  \n",
       "2       -1     -1       -1  \n",
       "3       -1     -1       -1  \n",
       "4       20     -1       -1  "
      ]
     },
     "execution_count": 20,
     "metadata": {},
     "output_type": "execute_result"
    }
   ],
   "source": [
    "cps2019_df.head()"
   ]
  },
  {
   "cell_type": "code",
   "execution_count": 21,
   "metadata": {},
   "outputs": [],
   "source": [
    "# Creating a list of 10 columns that we are going to keep\n",
    "cps2019_df = cps2019_df.rename(columns={'HEFAMINC':'FAMILY_INCOME','HRHTYPE':'HOUSEHOLD_TYPE', \n",
    "                        'PTDTRACE':'RACE', 'PREMPNOT':'EMPLOYMENT_STATUS', \n",
    "                        'PRCHLD':'PRESENCE_OF_CHILDREN_UNDER_18YO', 'HETS2O':'HOUSEHOLD_PURCHASES_GROCERIES', \n",
    "                        'HETS6O':'HOUSEHOLD_PURCHASES_RESTAURANTS', \n",
    "                        'HETS8CO': 'AMOUNT_NEEDED_TO_MEET_HOUSEHOLD_FOOD_NEED', \n",
    "                        'HETSP3O':'FOODSTAMPS_AMT_PERMONTH', 'HESP1':'Y/N_RECEVIED_FOODBENEFITS_PAST12MONTHS'})\n",
    "# cps2019_df.to_csv('filename.csv')"
   ]
  },
  {
   "cell_type": "code",
   "execution_count": 22,
   "metadata": {
    "scrolled": true
   },
   "outputs": [
    {
     "name": "stdout",
     "output_type": "stream",
     "text": [
      "<class 'pandas.core.frame.DataFrame'>\n",
      "RangeIndex: 2692 entries, 0 to 2691\n",
      "Data columns (total 11 columns):\n",
      " #   Column                                     Non-Null Count  Dtype\n",
      "---  ------                                     --------------  -----\n",
      " 0   Unnamed: 0                                 2692 non-null   int64\n",
      " 1   FAMILY_INCOME                              2692 non-null   int64\n",
      " 2   HOUSEHOLD_TYPE                             2692 non-null   int64\n",
      " 3   RACE                                       2692 non-null   int64\n",
      " 4   EMPLOYMENT_STATUS                          2692 non-null   int64\n",
      " 5   PRESENCE_OF_CHILDREN_UNDER_18YO            2692 non-null   int64\n",
      " 6   HOUSEHOLD_PURCHASES_GROCERIES              2692 non-null   int64\n",
      " 7   HOUSEHOLD_PURCHASES_RESTAURANTS            2692 non-null   int64\n",
      " 8   AMOUNT_NEEDED_TO_MEET_HOUSEHOLD_FOOD_NEED  2692 non-null   int64\n",
      " 9   Y/N_RECEVIED_FOODBENEFITS_PAST12MONTHS     2692 non-null   int64\n",
      " 10  FOODSTAMPS_AMT_PERMONTH                    2692 non-null   int64\n",
      "dtypes: int64(11)\n",
      "memory usage: 231.5 KB\n"
     ]
    }
   ],
   "source": [
    "cps2019_df.info()"
   ]
  },
  {
   "cell_type": "markdown",
   "metadata": {},
   "source": [
    "<h1> 2019 Data"
   ]
  },
  {
   "cell_type": "code",
   "execution_count": 23,
   "metadata": {},
   "outputs": [
    {
     "data": {
      "text/html": [
       "<div>\n",
       "<style scoped>\n",
       "    .dataframe tbody tr th:only-of-type {\n",
       "        vertical-align: middle;\n",
       "    }\n",
       "\n",
       "    .dataframe tbody tr th {\n",
       "        vertical-align: top;\n",
       "    }\n",
       "\n",
       "    .dataframe thead th {\n",
       "        text-align: right;\n",
       "    }\n",
       "</style>\n",
       "<table border=\"1\" class=\"dataframe\">\n",
       "  <thead>\n",
       "    <tr style=\"text-align: right;\">\n",
       "      <th></th>\n",
       "      <th>Unnamed: 0</th>\n",
       "      <th>FAMILY_INCOME</th>\n",
       "      <th>HOUSEHOLD_TYPE</th>\n",
       "      <th>RACE</th>\n",
       "      <th>EMPLOYMENT_STATUS</th>\n",
       "      <th>PRESENCE_OF_CHILDREN_UNDER_18YO</th>\n",
       "      <th>HOUSEHOLD_PURCHASES_GROCERIES</th>\n",
       "      <th>HOUSEHOLD_PURCHASES_RESTAURANTS</th>\n",
       "      <th>AMOUNT_NEEDED_TO_MEET_HOUSEHOLD_FOOD_NEED</th>\n",
       "      <th>Y/N_RECEVIED_FOODBENEFITS_PAST12MONTHS</th>\n",
       "      <th>FOODSTAMPS_AMT_PERMONTH</th>\n",
       "    </tr>\n",
       "  </thead>\n",
       "  <tbody>\n",
       "    <tr>\n",
       "      <th>0</th>\n",
       "      <td>2292</td>\n",
       "      <td>8</td>\n",
       "      <td>1</td>\n",
       "      <td>1</td>\n",
       "      <td>1</td>\n",
       "      <td>4</td>\n",
       "      <td>-1</td>\n",
       "      <td>-1</td>\n",
       "      <td>-1</td>\n",
       "      <td>-1</td>\n",
       "      <td>-1</td>\n",
       "    </tr>\n",
       "    <tr>\n",
       "      <th>1</th>\n",
       "      <td>2293</td>\n",
       "      <td>8</td>\n",
       "      <td>1</td>\n",
       "      <td>1</td>\n",
       "      <td>4</td>\n",
       "      <td>4</td>\n",
       "      <td>-1</td>\n",
       "      <td>-1</td>\n",
       "      <td>-1</td>\n",
       "      <td>-1</td>\n",
       "      <td>-1</td>\n",
       "    </tr>\n",
       "    <tr>\n",
       "      <th>2</th>\n",
       "      <td>2294</td>\n",
       "      <td>8</td>\n",
       "      <td>1</td>\n",
       "      <td>1</td>\n",
       "      <td>4</td>\n",
       "      <td>0</td>\n",
       "      <td>-1</td>\n",
       "      <td>-1</td>\n",
       "      <td>-1</td>\n",
       "      <td>-1</td>\n",
       "      <td>-1</td>\n",
       "    </tr>\n",
       "    <tr>\n",
       "      <th>3</th>\n",
       "      <td>2295</td>\n",
       "      <td>8</td>\n",
       "      <td>1</td>\n",
       "      <td>1</td>\n",
       "      <td>-1</td>\n",
       "      <td>0</td>\n",
       "      <td>-1</td>\n",
       "      <td>-1</td>\n",
       "      <td>-1</td>\n",
       "      <td>-1</td>\n",
       "      <td>-1</td>\n",
       "    </tr>\n",
       "    <tr>\n",
       "      <th>4</th>\n",
       "      <td>2296</td>\n",
       "      <td>10</td>\n",
       "      <td>7</td>\n",
       "      <td>1</td>\n",
       "      <td>4</td>\n",
       "      <td>0</td>\n",
       "      <td>-1</td>\n",
       "      <td>30</td>\n",
       "      <td>20</td>\n",
       "      <td>-1</td>\n",
       "      <td>-1</td>\n",
       "    </tr>\n",
       "  </tbody>\n",
       "</table>\n",
       "</div>"
      ],
      "text/plain": [
       "   Unnamed: 0  FAMILY_INCOME  HOUSEHOLD_TYPE  RACE  EMPLOYMENT_STATUS  \\\n",
       "0        2292              8               1     1                  1   \n",
       "1        2293              8               1     1                  4   \n",
       "2        2294              8               1     1                  4   \n",
       "3        2295              8               1     1                 -1   \n",
       "4        2296             10               7     1                  4   \n",
       "\n",
       "   PRESENCE_OF_CHILDREN_UNDER_18YO  HOUSEHOLD_PURCHASES_GROCERIES  \\\n",
       "0                                4                             -1   \n",
       "1                                4                             -1   \n",
       "2                                0                             -1   \n",
       "3                                0                             -1   \n",
       "4                                0                             -1   \n",
       "\n",
       "   HOUSEHOLD_PURCHASES_RESTAURANTS  AMOUNT_NEEDED_TO_MEET_HOUSEHOLD_FOOD_NEED  \\\n",
       "0                               -1                                         -1   \n",
       "1                               -1                                         -1   \n",
       "2                               -1                                         -1   \n",
       "3                               -1                                         -1   \n",
       "4                               30                                         20   \n",
       "\n",
       "   Y/N_RECEVIED_FOODBENEFITS_PAST12MONTHS  FOODSTAMPS_AMT_PERMONTH  \n",
       "0                                      -1                       -1  \n",
       "1                                      -1                       -1  \n",
       "2                                      -1                       -1  \n",
       "3                                      -1                       -1  \n",
       "4                                      -1                       -1  "
      ]
     },
     "execution_count": 23,
     "metadata": {},
     "output_type": "execute_result"
    }
   ],
   "source": [
    "#Checked for any null values and showed count, mean, std\n",
    "cps2019_df.isnull().values.any()\n",
    "#cps2019_df.describe()\n",
    "cps2019_df.head()"
   ]
  },
  {
   "cell_type": "markdown",
   "metadata": {},
   "source": [
    "## Dictionaries:"
   ]
  },
  {
   "cell_type": "code",
   "execution_count": 101,
   "metadata": {},
   "outputs": [],
   "source": [
    "# FAMILY_INCOME\n",
    "Dict_Family_Income = {-1: \"No income/answer\",\n",
    "                       1: 'LESS THAN $5,000',\n",
    "                       2: '5,000 TO 7,499',\n",
    "                       3: '7,500 TO 9,999',\n",
    "                       4: '10,000 TO 12,499',\n",
    "                       5: '12,500 TO 14,999',\n",
    "                       6: '15,000 TO 19,999',\n",
    "                       7: '20,000 TO 24,999',\n",
    "                       8: '25,000 TO 29,999',\n",
    "                       9: '30,000 TO 34,999',\n",
    "                      10: '35,000 TO 39,999',\n",
    "                      11: '40,000 TO 49,999',\n",
    "                      12: '50,000 TO 59,999',\n",
    "                      13: '60,000 TO 74,999',\n",
    "                      14: '75,000 TO 99,999',\n",
    "                      15: '100,000 TO 149,999',\n",
    "                      16: '150,000 OR MORE'}"
   ]
  },
  {
   "cell_type": "code",
   "execution_count": null,
   "metadata": {},
   "outputs": [],
   "source": [
    "# Race Key:\n",
    "# 01 White Only\n",
    "# 02 Black Only\n",
    "# 03 American Indian, Alaskan Native Only\n",
    "# 04 Asian Only\n",
    "# 05 Hawaiian/Pacific Islander Only\n",
    "# 06 White-Black\n",
    "# 07 White-AI\n",
    "# 08 White-Asian\n",
    "# 09 White-HP\n",
    "# 10 Black-AI\n",
    "# 11 Black-Asian\n",
    "# 12 Black-HP\n",
    "# 13 AI-Asian\n",
    "# 14 AI-HP\n",
    "# 15 Asian-HP"
   ]
  },
  {
   "cell_type": "code",
   "execution_count": 103,
   "metadata": {},
   "outputs": [],
   "source": [
    "# RACE\n",
    "Dict_Race = {1: 'White Only',\n",
    "             2: 'Black Only',\n",
    "             3: 'American Indian, Alaskan Native Only',\n",
    "             4: 'Asian Only',\n",
    "             5: 'Hawaiian/Pacific Islander Only',\n",
    "             6: 'White-Black',\n",
    "             7: 'White-AI',\n",
    "             8: 'White-Asian',\n",
    "             9: 'White-HP',\n",
    "            10: 'Black-AI',\n",
    "            11: 'Black-Asian',\n",
    "            12: 'Black-HP',\n",
    "            13: 'AI-Asian',\n",
    "            14: 'AI-HP',\n",
    "            15: 'Asian-HP'}"
   ]
  },
  {
   "cell_type": "markdown",
   "metadata": {},
   "source": [
    "### Family income histogram"
   ]
  },
  {
   "cell_type": "code",
   "execution_count": 102,
   "metadata": {},
   "outputs": [
    {
     "data": {
      "image/png": "[encoded data removed]",
      "text/plain": [
       "<Figure size 720x360 with 1 Axes>"
      ]
     },
     "metadata": {
      "needs_background": "light"
     },
     "output_type": "display_data"
    }
   ],
   "source": [
    "sns.set_context('talk')\n",
    "plt.figure(figsize=(10,5))\n",
    "family_income = cps2019_df.groupby(cps2019_df['FAMILY_INCOME']).size()\n",
    "family_income.plot.bar(rot=15, title='Family Income Plot')\n",
    "plt.ylabel('Counts')\n",
    "plt.xticks(range(0,len(Dict_Family_Income.values())), Dict_Family_Income.values(),rotation=90)\n",
    "plt.show()"
   ]
  },
  {
   "cell_type": "markdown",
   "metadata": {},
   "source": [
    "### Race Histogram"
   ]
  },
  {
   "cell_type": "code",
   "execution_count": 111,
   "metadata": {},
   "outputs": [
    {
     "data": {
      "image/png": "[encoded data removed]",
      "text/plain": [
       "<Figure size 720x360 with 1 Axes>"
      ]
     },
     "metadata": {
      "needs_background": "light"
     },
     "output_type": "display_data"
    }
   ],
   "source": [
    "sns.set_context('talk')\n",
    "plt.figure(figsize=(10,5))\n",
    "race = cps2019_df.groupby(cps2019_df['RACE']).size()\n",
    "race.plot.bar(rot=15, title='Race Plot')\n",
    "plt.ylabel('Counts')\n",
    "plt.xticks(range(0,len(Dict_Race.values())), Dict_Race.values(),rotation=90)\n",
    "# plt.ylim(0,100)\n",
    "plt.show()"
   ]
  },
  {
   "cell_type": "code",
   "execution_count": null,
   "metadata": {},
   "outputs": [],
   "source": []
  },
  {
   "cell_type": "markdown",
   "metadata": {},
   "source": [
    "# Plotting"
   ]
  },
  {
   "cell_type": "code",
   "execution_count": 24,
   "metadata": {},
   "outputs": [
    {
     "data": {
      "text/plain": [
       "<matplotlib.axes._subplots.AxesSubplot at 0x7fcaf90ec8d0>"
      ]
     },
     "execution_count": 24,
     "metadata": {},
     "output_type": "execute_result"
    },
    {
     "data": {
      "image/png": "[encoded data removed]",
      "text/plain": [
       "<Figure size 1080x288 with 1 Axes>"
      ]
     },
     "metadata": {
      "needs_background": "light"
     },
     "output_type": "display_data"
    }
   ],
   "source": [
    "# Plotting based on family income\n",
    "plt.figure(figsize=(15,4))\n",
    "family_income = cps2019_df.groupby(cps2019_df['FAMILY_INCOME']).size()\n",
    "family_income.plot.bar(rot=15, title='Family Income Plot')\n",
    "# Key for family income:\n",
    "# We need to add a legend to the plots to show what the numbers represent\n",
    "# -1 represents no income/answer provided.  Don't remove\n",
    "#1 LESS THAN $5,000\n",
    "#2 5,000 TO 7,499\n",
    "#3 7,500 TO 9,999\n",
    "#4 10,000 TO 12,499\n",
    "#5 12,500 TO 14,999\n",
    "#6 15,000 TO 19,999\n",
    "#7 20,000 TO 24,999\n",
    "#8 25,000 TO 29,999\n",
    "#9 30,000 TO 34,999\n",
    "#10 35,000 TO 39,999\n",
    "#11 40,000 TO 49,999\n",
    "#12 50,000 TO 59,999\n",
    "#13 60,000 TO 74,999\n",
    "#14 75,000 TO 99,999\n",
    "#15 100,000 TO 149,999\n",
    "#16 150,000 OR MORE"
   ]
  },
  {
   "cell_type": "code",
   "execution_count": 25,
   "metadata": {
    "scrolled": true
   },
   "outputs": [
    {
     "data": {
      "text/html": [
       "<div>\n",
       "<style scoped>\n",
       "    .dataframe tbody tr th:only-of-type {\n",
       "        vertical-align: middle;\n",
       "    }\n",
       "\n",
       "    .dataframe tbody tr th {\n",
       "        vertical-align: top;\n",
       "    }\n",
       "\n",
       "    .dataframe thead th {\n",
       "        text-align: right;\n",
       "    }\n",
       "</style>\n",
       "<table border=\"1\" class=\"dataframe\">\n",
       "  <thead>\n",
       "    <tr style=\"text-align: right;\">\n",
       "      <th></th>\n",
       "      <th>Unnamed: 0</th>\n",
       "      <th>FAMILY_INCOME</th>\n",
       "      <th>HOUSEHOLD_TYPE</th>\n",
       "      <th>RACE</th>\n",
       "      <th>EMPLOYMENT_STATUS</th>\n",
       "      <th>PRESENCE_OF_CHILDREN_UNDER_18YO</th>\n",
       "      <th>HOUSEHOLD_PURCHASES_GROCERIES</th>\n",
       "      <th>HOUSEHOLD_PURCHASES_RESTAURANTS</th>\n",
       "      <th>AMOUNT_NEEDED_TO_MEET_HOUSEHOLD_FOOD_NEED</th>\n",
       "      <th>Y/N_RECEVIED_FOODBENEFITS_PAST12MONTHS</th>\n",
       "      <th>FOODSTAMPS_AMT_PERMONTH</th>\n",
       "    </tr>\n",
       "  </thead>\n",
       "  <tbody>\n",
       "    <tr>\n",
       "      <th>count</th>\n",
       "      <td>2692.000000</td>\n",
       "      <td>2692.000000</td>\n",
       "      <td>2692.000000</td>\n",
       "      <td>2692.000000</td>\n",
       "      <td>2692.000000</td>\n",
       "      <td>2692.000000</td>\n",
       "      <td>2692.000000</td>\n",
       "      <td>2692.000000</td>\n",
       "      <td>2692.000000</td>\n",
       "      <td>2692.000000</td>\n",
       "      <td>2692.000000</td>\n",
       "    </tr>\n",
       "    <tr>\n",
       "      <th>mean</th>\n",
       "      <td>66444.942051</td>\n",
       "      <td>8.182021</td>\n",
       "      <td>2.259658</td>\n",
       "      <td>1.050149</td>\n",
       "      <td>1.341753</td>\n",
       "      <td>0.527489</td>\n",
       "      <td>70.842868</td>\n",
       "      <td>18.894874</td>\n",
       "      <td>7.050520</td>\n",
       "      <td>-0.211738</td>\n",
       "      <td>23.579866</td>\n",
       "    </tr>\n",
       "    <tr>\n",
       "      <th>std</th>\n",
       "      <td>41502.505514</td>\n",
       "      <td>5.622023</td>\n",
       "      <td>2.162611</td>\n",
       "      <td>1.156988</td>\n",
       "      <td>2.022687</td>\n",
       "      <td>2.105272</td>\n",
       "      <td>93.941181</td>\n",
       "      <td>38.398192</td>\n",
       "      <td>27.408583</td>\n",
       "      <td>1.256024</td>\n",
       "      <td>101.895535</td>\n",
       "    </tr>\n",
       "    <tr>\n",
       "      <th>min</th>\n",
       "      <td>2292.000000</td>\n",
       "      <td>-1.000000</td>\n",
       "      <td>0.000000</td>\n",
       "      <td>-1.000000</td>\n",
       "      <td>-1.000000</td>\n",
       "      <td>-1.000000</td>\n",
       "      <td>-1.000000</td>\n",
       "      <td>-1.000000</td>\n",
       "      <td>-1.000000</td>\n",
       "      <td>-3.000000</td>\n",
       "      <td>-1.000000</td>\n",
       "    </tr>\n",
       "    <tr>\n",
       "      <th>25%</th>\n",
       "      <td>28334.750000</td>\n",
       "      <td>4.000000</td>\n",
       "      <td>1.000000</td>\n",
       "      <td>1.000000</td>\n",
       "      <td>-1.000000</td>\n",
       "      <td>0.000000</td>\n",
       "      <td>-1.000000</td>\n",
       "      <td>-1.000000</td>\n",
       "      <td>-1.000000</td>\n",
       "      <td>-1.000000</td>\n",
       "      <td>-1.000000</td>\n",
       "    </tr>\n",
       "    <tr>\n",
       "      <th>50%</th>\n",
       "      <td>69627.500000</td>\n",
       "      <td>9.000000</td>\n",
       "      <td>1.000000</td>\n",
       "      <td>1.000000</td>\n",
       "      <td>1.000000</td>\n",
       "      <td>0.000000</td>\n",
       "      <td>-1.000000</td>\n",
       "      <td>-1.000000</td>\n",
       "      <td>-1.000000</td>\n",
       "      <td>-1.000000</td>\n",
       "      <td>-1.000000</td>\n",
       "    </tr>\n",
       "    <tr>\n",
       "      <th>75%</th>\n",
       "      <td>108616.250000</td>\n",
       "      <td>13.000000</td>\n",
       "      <td>4.000000</td>\n",
       "      <td>2.000000</td>\n",
       "      <td>4.000000</td>\n",
       "      <td>0.000000</td>\n",
       "      <td>130.000000</td>\n",
       "      <td>30.000000</td>\n",
       "      <td>-1.000000</td>\n",
       "      <td>1.000000</td>\n",
       "      <td>-1.000000</td>\n",
       "    </tr>\n",
       "    <tr>\n",
       "      <th>max</th>\n",
       "      <td>138565.000000</td>\n",
       "      <td>16.000000</td>\n",
       "      <td>7.000000</td>\n",
       "      <td>8.000000</td>\n",
       "      <td>4.000000</td>\n",
       "      <td>14.000000</td>\n",
       "      <td>450.000000</td>\n",
       "      <td>290.000000</td>\n",
       "      <td>200.000000</td>\n",
       "      <td>2.000000</td>\n",
       "      <td>648.000000</td>\n",
       "    </tr>\n",
       "  </tbody>\n",
       "</table>\n",
       "</div>"
      ],
      "text/plain": [
       "          Unnamed: 0  FAMILY_INCOME  HOUSEHOLD_TYPE         RACE  \\\n",
       "count    2692.000000    2692.000000     2692.000000  2692.000000   \n",
       "mean    66444.942051       8.182021        2.259658     1.050149   \n",
       "std     41502.505514       5.622023        2.162611     1.156988   \n",
       "min      2292.000000      -1.000000        0.000000    -1.000000   \n",
       "25%     28334.750000       4.000000        1.000000     1.000000   \n",
       "50%     69627.500000       9.000000        1.000000     1.000000   \n",
       "75%    108616.250000      13.000000        4.000000     2.000000   \n",
       "max    138565.000000      16.000000        7.000000     8.000000   \n",
       "\n",
       "       EMPLOYMENT_STATUS  PRESENCE_OF_CHILDREN_UNDER_18YO  \\\n",
       "count        2692.000000                      2692.000000   \n",
       "mean            1.341753                         0.527489   \n",
       "std             2.022687                         2.105272   \n",
       "min            -1.000000                        -1.000000   \n",
       "25%            -1.000000                         0.000000   \n",
       "50%             1.000000                         0.000000   \n",
       "75%             4.000000                         0.000000   \n",
       "max             4.000000                        14.000000   \n",
       "\n",
       "       HOUSEHOLD_PURCHASES_GROCERIES  HOUSEHOLD_PURCHASES_RESTAURANTS  \\\n",
       "count                    2692.000000                      2692.000000   \n",
       "mean                       70.842868                        18.894874   \n",
       "std                        93.941181                        38.398192   \n",
       "min                        -1.000000                        -1.000000   \n",
       "25%                        -1.000000                        -1.000000   \n",
       "50%                        -1.000000                        -1.000000   \n",
       "75%                       130.000000                        30.000000   \n",
       "max                       450.000000                       290.000000   \n",
       "\n",
       "       AMOUNT_NEEDED_TO_MEET_HOUSEHOLD_FOOD_NEED  \\\n",
       "count                                2692.000000   \n",
       "mean                                    7.050520   \n",
       "std                                    27.408583   \n",
       "min                                    -1.000000   \n",
       "25%                                    -1.000000   \n",
       "50%                                    -1.000000   \n",
       "75%                                    -1.000000   \n",
       "max                                   200.000000   \n",
       "\n",
       "       Y/N_RECEVIED_FOODBENEFITS_PAST12MONTHS  FOODSTAMPS_AMT_PERMONTH  \n",
       "count                             2692.000000              2692.000000  \n",
       "mean                                -0.211738                23.579866  \n",
       "std                                  1.256024               101.895535  \n",
       "min                                 -3.000000                -1.000000  \n",
       "25%                                 -1.000000                -1.000000  \n",
       "50%                                 -1.000000                -1.000000  \n",
       "75%                                  1.000000                -1.000000  \n",
       "max                                  2.000000               648.000000  "
      ]
     },
     "execution_count": 25,
     "metadata": {},
     "output_type": "execute_result"
    }
   ],
   "source": [
    "cps2019_df.describe()"
   ]
  },
  {
   "cell_type": "code",
   "execution_count": 26,
   "metadata": {},
   "outputs": [],
   "source": [
    "cps2019_df = cps2019_df.rename(columns={'HEFAMINC':'FAMILY_INCOME','HRHTYPE':'HOUSEHOLD_TYPE', \n",
    "                        'PTDTRACE':'RACE', 'PREMPNOT':'EMPLOYMENT_STATUS', \n",
    "                        'PRCHLD':'PRESENCE_OF_CHILDREN_UNDER_18YO', 'HETS2O':'HOUSEHOLD_PURCHASES_GROCERIES', \n",
    "                        'HETS6O':'HOUSEHOLD_PURCHASES_RESTAURANTS', \n",
    "                        'HETS8CO': 'AMOUNT_NEEDED_TO_MEET_HOUSEHOLD_FOOD_NEED', \n",
    "                        'HETSP3O':'FOODSTAMPS_AMT_PERMONTH', 'HESP1':'Y/N_RECEVIED_FOODBENEFITS_PAST12MONTHS'})"
   ]
  },
  {
   "cell_type": "code",
   "execution_count": 27,
   "metadata": {
    "scrolled": true
   },
   "outputs": [
    {
     "name": "stdout",
     "output_type": "stream",
     "text": [
      "<class 'pandas.core.frame.DataFrame'>\n",
      "RangeIndex: 2692 entries, 0 to 2691\n",
      "Data columns (total 11 columns):\n",
      " #   Column                                     Non-Null Count  Dtype\n",
      "---  ------                                     --------------  -----\n",
      " 0   Unnamed: 0                                 2692 non-null   int64\n",
      " 1   FAMILY_INCOME                              2692 non-null   int64\n",
      " 2   HOUSEHOLD_TYPE                             2692 non-null   int64\n",
      " 3   RACE                                       2692 non-null   int64\n",
      " 4   EMPLOYMENT_STATUS                          2692 non-null   int64\n",
      " 5   PRESENCE_OF_CHILDREN_UNDER_18YO            2692 non-null   int64\n",
      " 6   HOUSEHOLD_PURCHASES_GROCERIES              2692 non-null   int64\n",
      " 7   HOUSEHOLD_PURCHASES_RESTAURANTS            2692 non-null   int64\n",
      " 8   AMOUNT_NEEDED_TO_MEET_HOUSEHOLD_FOOD_NEED  2692 non-null   int64\n",
      " 9   Y/N_RECEVIED_FOODBENEFITS_PAST12MONTHS     2692 non-null   int64\n",
      " 10  FOODSTAMPS_AMT_PERMONTH                    2692 non-null   int64\n",
      "dtypes: int64(11)\n",
      "memory usage: 231.5 KB\n"
     ]
    }
   ],
   "source": [
    "cps2019_df.info()"
   ]
  },
  {
   "cell_type": "code",
   "execution_count": 28,
   "metadata": {},
   "outputs": [
    {
     "data": {
      "image/png": "[encoded data removed]",
      "text/plain": [
       "<Figure size 432x288 with 1 Axes>"
      ]
     },
     "metadata": {
      "needs_background": "light"
     },
     "output_type": "display_data"
    }
   ],
   "source": [
    "cps2019_df.plot.scatter(x='RACE', y='FAMILY_INCOME')\n",
    "plt.title('FAMILY_INCOME paired against Race')\n",
    "plt.xlabel('RACE')\n",
    "plt.ylabel('FAMILY_INCOME')\n",
    "plt.show()\n",
    "\n",
    "# Race Key:\n",
    "# 01 White Only\n",
    "# 02 Black Only\n",
    "# 03 American Indian, Alaskan Native Only\n",
    "# 04 Asian Only\n",
    "# 05 Hawaiian/Pacific Islander Only\n",
    "# 06 White-Black\n",
    "# 07 White-AI\n",
    "# 08 White-Asian\n",
    "# 09 White-HP\n",
    "# 10 Black-AI\n",
    "# 11 Black-Asian\n",
    "# 12 Black-HP\n",
    "# 13 AI-Asian\n",
    "# 14 AI-HP\n",
    "# 15 Asian-HP\n",
    "\n",
    "#Will create histogram for race and family income later"
   ]
  },
  {
   "cell_type": "code",
   "execution_count": 29,
   "metadata": {},
   "outputs": [
    {
     "data": {
      "text/html": [
       "<div>\n",
       "<style scoped>\n",
       "    .dataframe tbody tr th:only-of-type {\n",
       "        vertical-align: middle;\n",
       "    }\n",
       "\n",
       "    .dataframe tbody tr th {\n",
       "        vertical-align: top;\n",
       "    }\n",
       "\n",
       "    .dataframe thead th {\n",
       "        text-align: right;\n",
       "    }\n",
       "</style>\n",
       "<table border=\"1\" class=\"dataframe\">\n",
       "  <thead>\n",
       "    <tr style=\"text-align: right;\">\n",
       "      <th></th>\n",
       "      <th>Unnamed: 0</th>\n",
       "      <th>HEFAMINC</th>\n",
       "      <th>HRHTYPE</th>\n",
       "      <th>PTDTRACE</th>\n",
       "      <th>PREMPNOT</th>\n",
       "      <th>PRCHLD</th>\n",
       "      <th>HETS2O</th>\n",
       "      <th>HETS6O</th>\n",
       "      <th>HETS8CO</th>\n",
       "      <th>HESP1</th>\n",
       "      <th>HETSP3O</th>\n",
       "    </tr>\n",
       "  </thead>\n",
       "  <tbody>\n",
       "    <tr>\n",
       "      <th>count</th>\n",
       "      <td>2535.000000</td>\n",
       "      <td>2535.000000</td>\n",
       "      <td>2535.000000</td>\n",
       "      <td>2535.000000</td>\n",
       "      <td>2535.000000</td>\n",
       "      <td>2535.000000</td>\n",
       "      <td>2535.000000</td>\n",
       "      <td>2535.000000</td>\n",
       "      <td>2535.000000</td>\n",
       "      <td>2535.000000</td>\n",
       "      <td>2535.000000</td>\n",
       "    </tr>\n",
       "    <tr>\n",
       "      <th>mean</th>\n",
       "      <td>62751.026036</td>\n",
       "      <td>8.119527</td>\n",
       "      <td>2.304142</td>\n",
       "      <td>1.096252</td>\n",
       "      <td>1.388560</td>\n",
       "      <td>0.546351</td>\n",
       "      <td>76.966469</td>\n",
       "      <td>17.774359</td>\n",
       "      <td>7.106903</td>\n",
       "      <td>-0.092702</td>\n",
       "      <td>25.168442</td>\n",
       "    </tr>\n",
       "    <tr>\n",
       "      <th>std</th>\n",
       "      <td>38360.968961</td>\n",
       "      <td>5.688812</td>\n",
       "      <td>2.222837</td>\n",
       "      <td>1.461221</td>\n",
       "      <td>2.029213</td>\n",
       "      <td>2.251922</td>\n",
       "      <td>91.487963</td>\n",
       "      <td>37.173482</td>\n",
       "      <td>27.462553</td>\n",
       "      <td>1.309792</td>\n",
       "      <td>100.508814</td>\n",
       "    </tr>\n",
       "    <tr>\n",
       "      <th>min</th>\n",
       "      <td>2981.000000</td>\n",
       "      <td>-1.000000</td>\n",
       "      <td>0.000000</td>\n",
       "      <td>-1.000000</td>\n",
       "      <td>-1.000000</td>\n",
       "      <td>-1.000000</td>\n",
       "      <td>-3.000000</td>\n",
       "      <td>-3.000000</td>\n",
       "      <td>-2.000000</td>\n",
       "      <td>-3.000000</td>\n",
       "      <td>-3.000000</td>\n",
       "    </tr>\n",
       "    <tr>\n",
       "      <th>25%</th>\n",
       "      <td>25882.500000</td>\n",
       "      <td>4.000000</td>\n",
       "      <td>1.000000</td>\n",
       "      <td>1.000000</td>\n",
       "      <td>-1.000000</td>\n",
       "      <td>0.000000</td>\n",
       "      <td>-1.000000</td>\n",
       "      <td>-1.000000</td>\n",
       "      <td>-1.000000</td>\n",
       "      <td>-1.000000</td>\n",
       "      <td>-1.000000</td>\n",
       "    </tr>\n",
       "    <tr>\n",
       "      <th>50%</th>\n",
       "      <td>57732.000000</td>\n",
       "      <td>9.000000</td>\n",
       "      <td>1.000000</td>\n",
       "      <td>1.000000</td>\n",
       "      <td>1.000000</td>\n",
       "      <td>0.000000</td>\n",
       "      <td>50.000000</td>\n",
       "      <td>-1.000000</td>\n",
       "      <td>-1.000000</td>\n",
       "      <td>-1.000000</td>\n",
       "      <td>-1.000000</td>\n",
       "    </tr>\n",
       "    <tr>\n",
       "      <th>75%</th>\n",
       "      <td>100463.500000</td>\n",
       "      <td>13.000000</td>\n",
       "      <td>4.000000</td>\n",
       "      <td>2.000000</td>\n",
       "      <td>4.000000</td>\n",
       "      <td>0.000000</td>\n",
       "      <td>150.000000</td>\n",
       "      <td>30.000000</td>\n",
       "      <td>-1.000000</td>\n",
       "      <td>1.000000</td>\n",
       "      <td>-1.000000</td>\n",
       "    </tr>\n",
       "    <tr>\n",
       "      <th>max</th>\n",
       "      <td>131679.000000</td>\n",
       "      <td>16.000000</td>\n",
       "      <td>10.000000</td>\n",
       "      <td>21.000000</td>\n",
       "      <td>4.000000</td>\n",
       "      <td>15.000000</td>\n",
       "      <td>350.000000</td>\n",
       "      <td>200.000000</td>\n",
       "      <td>200.000000</td>\n",
       "      <td>2.000000</td>\n",
       "      <td>648.000000</td>\n",
       "    </tr>\n",
       "  </tbody>\n",
       "</table>\n",
       "</div>"
      ],
      "text/plain": [
       "          Unnamed: 0     HEFAMINC      HRHTYPE     PTDTRACE     PREMPNOT  \\\n",
       "count    2535.000000  2535.000000  2535.000000  2535.000000  2535.000000   \n",
       "mean    62751.026036     8.119527     2.304142     1.096252     1.388560   \n",
       "std     38360.968961     5.688812     2.222837     1.461221     2.029213   \n",
       "min      2981.000000    -1.000000     0.000000    -1.000000    -1.000000   \n",
       "25%     25882.500000     4.000000     1.000000     1.000000    -1.000000   \n",
       "50%     57732.000000     9.000000     1.000000     1.000000     1.000000   \n",
       "75%    100463.500000    13.000000     4.000000     2.000000     4.000000   \n",
       "max    131679.000000    16.000000    10.000000    21.000000     4.000000   \n",
       "\n",
       "            PRCHLD       HETS2O       HETS6O      HETS8CO        HESP1  \\\n",
       "count  2535.000000  2535.000000  2535.000000  2535.000000  2535.000000   \n",
       "mean      0.546351    76.966469    17.774359     7.106903    -0.092702   \n",
       "std       2.251922    91.487963    37.173482    27.462553     1.309792   \n",
       "min      -1.000000    -3.000000    -3.000000    -2.000000    -3.000000   \n",
       "25%       0.000000    -1.000000    -1.000000    -1.000000    -1.000000   \n",
       "50%       0.000000    50.000000    -1.000000    -1.000000    -1.000000   \n",
       "75%       0.000000   150.000000    30.000000    -1.000000     1.000000   \n",
       "max      15.000000   350.000000   200.000000   200.000000     2.000000   \n",
       "\n",
       "           HETSP3O  \n",
       "count  2535.000000  \n",
       "mean     25.168442  \n",
       "std     100.508814  \n",
       "min      -3.000000  \n",
       "25%      -1.000000  \n",
       "50%      -1.000000  \n",
       "75%      -1.000000  \n",
       "max     648.000000  "
      ]
     },
     "execution_count": 29,
     "metadata": {},
     "output_type": "execute_result"
    }
   ],
   "source": [
    "#Reading in clean files\n",
    "cps_path = '../../datasets/Mississipi/'\n",
    "#cps_path = '/home/jovyan/Team_27_final_project/' # Uncomment for Drea\n",
    "cps_csvfile = 'CPS_2020Data_MS.csv'\n",
    "cps2020_df = pd.read_csv(cps_path + cps_csvfile)\n",
    "cps2020_df.describe()"
   ]
  },
  {
   "cell_type": "code",
   "execution_count": 31,
   "metadata": {},
   "outputs": [],
   "source": [
    "# Creating a list of 10 columns that we are going to keep\n",
    "cps2020_df = cps2020_df.rename(columns={'HEFAMINC':'FAMILY_INCOME','HRHTYPE':'HOUSEHOLD_TYPE', \n",
    "                        'PTDTRACE':'RACE', 'PREMPNOT':'EMPLOYMENT_STATUS', \n",
    "                        'PRCHLD':'PRESENCE_OF_CHILDREN_UNDER_18YO', 'HETS2O':'HOUSEHOLD_PURCHASES_GROCERIES', \n",
    "                        'HETS6O':'HOUSEHOLD_PURCHASES_RESTAURANTS', \n",
    "                        'HETS8CO': 'AMOUNT_NEEDED_TO_MEET_HOUSEHOLD_FOOD_NEED', \n",
    "                        'HETSP3O':'FOODSTAMPS_AMT_PERMONTH', 'HESP1':'Y/N_RECEVIED_FOODBENEFITS_PAST12MONTHS'})"
   ]
  },
  {
   "cell_type": "code",
   "execution_count": 33,
   "metadata": {},
   "outputs": [
    {
     "data": {
      "text/plain": [
       "<matplotlib.axes._subplots.AxesSubplot at 0x7fcabab9eb90>"
      ]
     },
     "execution_count": 33,
     "metadata": {},
     "output_type": "execute_result"
    },
    {
     "data": {
      "image/png": "[encoded data removed]",
      "text/plain": [
       "<Figure size 1080x288 with 1 Axes>"
      ]
     },
     "metadata": {
      "needs_background": "light"
     },
     "output_type": "display_data"
    }
   ],
   "source": [
    "# Plotting based on family income\n",
    "plt.figure(figsize=(15,4))\n",
    "family_income_2020 = cps2020_df.groupby(cps2020_df['FAMILY_INCOME']).size()\n",
    "family_income_2020.plot.bar(rot=15, title='Family Income Plot')\n",
    "# Key for family income:\n",
    "# We need to add a legend to the plots to show what the numbers represent\n",
    "# -1 represents no income/answer provided.  Don't remove\n",
    "#1 LESS THAN $5,000\n",
    "#2 5,000 TO 7,499\n",
    "#3 7,500 TO 9,999\n",
    "#4 10,000 TO 12,499\n",
    "#5 12,500 TO 14,999\n",
    "#6 15,000 TO 19,999\n",
    "#7 20,000 TO 24,999\n",
    "#8 25,000 TO 29,999\n",
    "#9 30,000 TO 34,999\n",
    "#10 35,000 TO 39,999\n",
    "#11 40,000 TO 49,999\n",
    "#12 50,000 TO 59,999\n",
    "#13 60,000 TO 74,999\n",
    "#14 75,000 TO 99,999\n",
    "#15 100,000 TO 149,999\n",
    "#16 150,000 OR MORE"
   ]
  },
  {
   "cell_type": "code",
   "execution_count": 35,
   "metadata": {},
   "outputs": [
    {
     "data": {
      "text/plain": [
       "<matplotlib.axes._subplots.AxesSubplot at 0x7fcad91e2cd0>"
      ]
     },
     "execution_count": 35,
     "metadata": {},
     "output_type": "execute_result"
    },
    {
     "data": {
      "image/png": "[encoded data removed]",
      "text/plain": [
       "<Figure size 1080x288 with 1 Axes>"
      ]
     },
     "metadata": {
      "needs_background": "light"
     },
     "output_type": "display_data"
    }
   ],
   "source": [
    "plt.figure(figsize=(15,4))\n",
    "child_present = cps2019_df.groupby(cps2019_df['PRESENCE_OF_CHILDREN_UNDER_18YO']).size()\n",
    "child_present.plot.bar(rot=15, title='Children Present Plot')\n",
    "#Child Present\n",
    "#-1 NIU (Not a parent)\n",
    "#0 No own children under 18 years of age\n",
    "#1 All own children 0- 2 years of age\n",
    "#2 All own children 3- 5 years of age\n",
    "#3 All own children 6-13 years of age\n",
    "#4 All own children 14-17 years of age\n",
    "#5 Own children 0- 2 and 3- 5 years of age (none 6-17)\n",
    "#6 Own children 0- 2 and 6-13 years of age (none 3- 5 or 14-17)\n",
    "#7 Own children 0- 2 and 14-17 years of age (none 3-13)\n",
    "#8 Own children 3- 5 and 6-13 years of age (none 0- 2 or 14-17)\n",
    "#9 Own children 3- 5 and 14-17 years of age (none 0- 2 or 6-13)\n",
    "# 10 Own children 6-13 and 14-17 years of age (none 0- 5)\n",
    "# 11 Own children 0- 2, 3- 5, and 6-13 years of age (none 14-17)\n",
    "# 12 Own children 0- 2, 3- 5, and 14-17 years of age (none 6-13)\n",
    "# 13 Own children 0- 2, 6-13, and 14-17 years of age (none 3- 5)\n",
    "# 14 Own children 3- 5, 6-13, and 14-17"
   ]
  },
  {
   "cell_type": "code",
   "execution_count": 36,
   "metadata": {},
   "outputs": [
    {
     "data": {
      "text/plain": [
       "<matplotlib.axes._subplots.AxesSubplot at 0x7fcae8530750>"
      ]
     },
     "execution_count": 36,
     "metadata": {},
     "output_type": "execute_result"
    },
    {
     "data": {
      "image/png": "[encoded data removed]",
      "text/plain": [
       "<Figure size 1080x288 with 1 Axes>"
      ]
     },
     "metadata": {
      "needs_background": "light"
     },
     "output_type": "display_data"
    }
   ],
   "source": [
    "plt.figure(figsize=(15,4))\n",
    "employment_status = cps2019_df.groupby(cps2019_df['EMPLOYMENT_STATUS']).size()\n",
    "employment_status.plot.bar(rot=15, title='Employment Status Plot')"
   ]
  },
  {
   "cell_type": "code",
   "execution_count": 37,
   "metadata": {},
   "outputs": [
    {
     "data": {
      "text/plain": [
       "<matplotlib.axes._subplots.AxesSubplot at 0x7fcad922ad90>"
      ]
     },
     "execution_count": 37,
     "metadata": {},
     "output_type": "execute_result"
    },
    {
     "data": {
      "image/png": "[encoded data removed]",
      "text/plain": [
       "<Figure size 1080x288 with 1 Axes>"
      ]
     },
     "metadata": {
      "needs_background": "light"
     },
     "output_type": "display_data"
    }
   ],
   "source": [
    "plt.figure(figsize=(15,4))\n",
    "household_purchases_groceries = cps2019_df.groupby(cps2019_df['HOUSEHOLD_PURCHASES_GROCERIES']).size()\n",
    "household_purchases_groceries.plot.bar(rot=15, title='Buys Groceries Plot')"
   ]
  },
  {
   "cell_type": "code",
   "execution_count": 38,
   "metadata": {},
   "outputs": [
    {
     "data": {
      "text/plain": [
       "<matplotlib.axes._subplots.AxesSubplot at 0x7fcae86b07d0>"
      ]
     },
     "execution_count": 38,
     "metadata": {},
     "output_type": "execute_result"
    },
    {
     "data": {
      "image/png": "[encoded data removed]",
      "text/plain": [
       "<Figure size 1080x288 with 1 Axes>"
      ]
     },
     "metadata": {
      "needs_background": "light"
     },
     "output_type": "display_data"
    }
   ],
   "source": [
    "plt.figure(figsize=(15,4))\n",
    "restaurants = cps2019_df.groupby(cps2019_df['HOUSEHOLD_PURCHASES_RESTAURANTS']).size()\n",
    "restaurants.plot.bar(rot=15, title='Eat Out Plot')"
   ]
  },
  {
   "cell_type": "code",
   "execution_count": 39,
   "metadata": {},
   "outputs": [
    {
     "data": {
      "text/plain": [
       "<matplotlib.axes._subplots.AxesSubplot at 0x7fcae8705490>"
      ]
     },
     "execution_count": 39,
     "metadata": {},
     "output_type": "execute_result"
    },
    {
     "data": {
      "image/png": "[encoded data removed]",
      "text/plain": [
       "<Figure size 1080x288 with 1 Axes>"
      ]
     },
     "metadata": {
      "needs_background": "light"
     },
     "output_type": "display_data"
    }
   ],
   "source": [
    "plt.figure(figsize=(15,4))\n",
    "food_benefits = cps2019_df.groupby(cps2019_df['Y/N_RECEVIED_FOODBENEFITS_PAST12MONTHS']).size()\n",
    "food_benefits.plot.bar(rot=15, title='Food Benefits Plot')"
   ]
  },
  {
   "cell_type": "code",
   "execution_count": 40,
   "metadata": {},
   "outputs": [
    {
     "data": {
      "text/plain": [
       "<matplotlib.axes._subplots.AxesSubplot at 0x7fcad9542390>"
      ]
     },
     "execution_count": 40,
     "metadata": {},
     "output_type": "execute_result"
    },
    {
     "data": {
      "image/png": "[encoded data removed]",
      "text/plain": [
       "<Figure size 1080x288 with 1 Axes>"
      ]
     },
     "metadata": {
      "needs_background": "light"
     },
     "output_type": "display_data"
    }
   ],
   "source": [
    "plt.figure(figsize=(15,4))\n",
    "stamp_amount = cps2019_df.groupby(cps2019_df['FOODSTAMPS_AMT_PERMONTH']).size()\n",
    "stamp_amount.plot.bar(rot=15, title='Food Stamp Amount Plot')"
   ]
  },
  {
   "cell_type": "code",
   "execution_count": 52,
   "metadata": {},
   "outputs": [
    {
     "data": {
      "image/png": "[encoded data removed]",
      "text/plain": [
       "<Figure size 720x360 with 1 Axes>"
      ]
     },
     "metadata": {
      "needs_background": "light"
     },
     "output_type": "display_data"
    }
   ],
   "source": [
    "sns.set_context('talk')\n",
    "plt.figure(figsize=(10,5))\n",
    "x = [1, 2, 3, 4, 5, 6, 6, 7, 7, 8, 9, 9, 10, 11, 12, 12, 13, 13, 14, 15]\n",
    "y = [1, 4, 9.5, 15.5, 2.5, 1, 9.5, 1, 15.5, 8, 4, 15.5, 11.5, 6.5, 2.5, 15.5, 1, 11.5, 10, 8.5]\n",
    "yerr = [1, 1, 3.5, 1.5, 2.5, 1, 3.5, 1, 1.5, 5, 1, 1.5, 5.5, 6.5, 2.5, 1.5, 1, 5.5, 7, 8.5]\n",
    "plt.errorbar(x,y,yerr=yerr, linestyle='',elinewidth=28)\n",
    "plt.xticks(np.arange(-1,16))\n",
    "plt.yticks(np.arange(0,18))\n",
    "plt.xlabel('PRESENCE_OF_CHILDREN_UNDER_18YO')\n",
    "plt.ylabel('Children Age')\n",
    "plt.show()"
   ]
  },
  {
   "cell_type": "code",
   "execution_count": null,
   "metadata": {},
   "outputs": [],
   "source": []
  }
 ],
 "metadata": {
  "kernelspec": {
   "display_name": "Python 3",
   "language": "python",
   "name": "python3"
  },
  "language_info": {
   "codemirror_mode": {
    "name": "ipython",
    "version": 3
   },
   "file_extension": ".py",
   "mimetype": "text/x-python",
   "name": "python",
   "nbconvert_exporter": "python",
   "pygments_lexer": "ipython3",
   "version": "3.7.4"
  },
  "latex_envs": {
   "LaTeX_envs_menu_present": true,
   "autoclose": false,
   "autocomplete": true,
   "bibliofile": "biblio.bib",
   "cite_by": "apalike",
   "current_citInitial": 1,
   "eqLabelWithNumbers": true,
   "eqNumInitial": 1,
   "hotkeys": {
    "equation": "Ctrl-E",
    "itemize": "Ctrl-I"
   },
   "labels_anchors": false,
   "latex_user_defs": false,
   "report_style_numbering": false,
   "user_envs_cfg": false
  }
 },
 "nbformat": 4,
 "nbformat_minor": 2
}
