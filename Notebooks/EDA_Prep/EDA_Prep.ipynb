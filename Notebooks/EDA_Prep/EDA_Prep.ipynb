{
 "cells": [
  {
   "cell_type": "markdown",
   "metadata": {},
   "source": [
    "# Exploratory Data Analysis\n",
    "## Group 27\n",
    "### January 2022"
   ]
  },
  {
   "cell_type": "markdown",
   "metadata": {},
   "source": [
    "With your datasets sourced and cleaned now you will begin exploring the data. This entails performing Exploratory Data Analysis (EDA). EDA is used to understand and summarize the contents of a dataset. In this case, EDA will be used to help you investigate the specific questions for the business problem proposed for your capstone project. EDA relies heavily on visualizing the data to assess patterns and identify data characteristics. Please use the **Six Steps of Exploratory Data Analysis** outlined below to help guide your work. Refer back to your project scoping document where you have outlined the specific business problems you are looking to solve."
   ]
  },
  {
   "cell_type": "markdown",
   "metadata": {},
   "source": [
    "Selecting columns of interest and target feature(s)\n",
    "* Which columns in your data sets will help you answer the questions posed by\n",
    "your problem statement? \n",
    "* Which columns represent the key pieces of information you want to examine (i.e.\n",
    "your target variables)?\n",
    "* How many numerical, textual, datetime etc. columns are in your dataset?\n",
    "* Pick out any similar columns among your disparate data sets for potential linking\n",
    "later on on the EDA process\n",
    "\n",
    "Explore Individual columns for preliminary insights\n",
    "* How many null values are present in your data (what percentage)?\n",
    "* Plot one-dimensional distributions of numerical columns (ex. histograms) and\n",
    "observe the overall shape of the data (i.e. normal distribution, skewed,\n",
    "multimodal, discontinuous\n",
    "* Compute basic statistics of numerical columns\n",
    "* Calculate subgroup size of text/categorical data (such as the pd.value_counts()\n",
    "method)\n",
    "* Explore any date/datetime columns for basic trends. How long is the period of\n",
    "time covered by the dataset? Do any seasonality trends immediately become\n",
    "apparent?\n",
    "\n",
    " Plot two-dimensional distributions of your variables of interest against your target\n",
    "variable(s).\n",
    "* Across different values of your independent variable, how does the dependent\n",
    "variable change?\n",
    "* Which interactions of variables provide the most interesting insights?\n",
    "* What trends do you see in the data? Do they support or contradict the hypothesis\n",
    "of your problem statement?\n",
    "\n",
    "Analyze any correlations between your independent and dependent variables\n",
    "* Understand and resolve surprising correlations between these variables, and use this information to validate your initial hypothesis.\n",
    "\n",
    "Craft a compelling story from the work you’ve done in the previous steps\n",
    "* Which charts, graphs, and tables provide the most compelling evidence in\n",
    "support of your project idea?\n",
    "* If your data analysis has largely disproved your initial hypothesis, can you craft a\n",
    "narrative for this alternative?\n"
   ]
  },
  {
   "cell_type": "code",
   "execution_count": 1,
   "metadata": {},
   "outputs": [],
   "source": [
    "# Packages\n",
    "import pandas as pd"
   ]
  },
  {
   "cell_type": "markdown",
   "metadata": {},
   "source": [
    "#### Reading Datasets"
   ]
  },
  {
   "cell_type": "code",
   "execution_count": 20,
   "metadata": {},
   "outputs": [],
   "source": [
    "# Read CPS\n",
    "cps_path = './../../datasets/Mississipi/'\n",
    "cps_csvfile = 'CPS_2020Data_MS.csv'\n",
    "cps_df = pd.read_csv(cps_path + cps_csvfile)"
   ]
  },
  {
   "cell_type": "code",
   "execution_count": 12,
   "metadata": {},
   "outputs": [],
   "source": [
    "# Read Feeding America\n",
    "fa_path = './../../datasets/Mississipi/'\n",
    "fa_csvfile = 'FA_2019Data_MS.csv'\n",
    "fa_df = pd.read_csv(fa_path + fa_csvfile)"
   ]
  },
  {
   "cell_type": "code",
   "execution_count": 13,
   "metadata": {},
   "outputs": [],
   "source": [
    "# Read hardship 2016 2017\n",
    "hs_path = './../../datasets/hardship/'\n",
    "hs_csvfile = '2016_2017_state_food_hardship.csv'\n",
    "hs_df = pd.read_csv(hs_path + hs_csvfile)"
   ]
  },
  {
   "cell_type": "code",
   "execution_count": 15,
   "metadata": {},
   "outputs": [],
   "source": [
    "# Read households by type snap 2015 2019\n",
    "hh_snap_path = './../../datasets/households/'\n",
    "hh_snap_csvfile = 'households_by_type_snap2015_2019.csv'\n",
    "hh_snap_df = pd.read_csv(hh_snap_path + hh_snap_csvfile)"
   ]
  },
  {
   "cell_type": "code",
   "execution_count": 16,
   "metadata": {},
   "outputs": [],
   "source": [
    "# Read households by metropol area (food hardship) 2016 2015\n",
    "hh_hs_path = './../../datasets/households/'\n",
    "hh_hs_csvfile = 'households_in_metropolitanAreas_food_hardship_2016_2017.csv'\n",
    "hh_hs_df = pd.read_csv(hh_hs_path + hh_hs_csvfile)"
   ]
  },
  {
   "cell_type": "code",
   "execution_count": 17,
   "metadata": {},
   "outputs": [],
   "source": [
    "# Read households by individual snap 2019\n",
    "hh_2019_path = './../../datasets/households/'\n",
    "hh_2019_csvfile = 'households_individuals_snap_2019.csv'\n",
    "hh_2019_df = pd.read_csv(hh_2019_path + hh_2019_csvfile)"
   ]
  },
  {
   "cell_type": "markdown",
   "metadata": {},
   "source": [
    "## CPS First exploration"
   ]
  },
  {
   "cell_type": "code",
   "execution_count": 23,
   "metadata": {},
   "outputs": [
    {
     "name": "stdout",
     "output_type": "stream",
     "text": [
      "<class 'pandas.core.frame.DataFrame'>\n",
      "RangeIndex: 2535 entries, 0 to 2534\n",
      "Data columns (total 29 columns):\n",
      " #   Column      Non-Null Count  Dtype\n",
      "---  ------      --------------  -----\n",
      " 0   Unnamed: 0  2535 non-null   int64\n",
      " 1   HRYEAR4     2535 non-null   int64\n",
      " 2   HRHTYPE     2535 non-null   int64\n",
      " 3   GTCO        2535 non-null   int64\n",
      " 4   GTCBSASZ    2535 non-null   int64\n",
      " 5   GTCSA       2535 non-null   int64\n",
      " 6   PTDTRACE    2535 non-null   int64\n",
      " 7   PREMPNOT    2535 non-null   int64\n",
      " 8   HES8B       2535 non-null   int64\n",
      " 9   HETS8CO     2535 non-null   int64\n",
      " 10  HETS8DO     2535 non-null   int64\n",
      " 11  HES9        2535 non-null   int64\n",
      " 12  HESP1       2535 non-null   int64\n",
      " 13  HESP6       2535 non-null   int64\n",
      " 14  HESP7       2535 non-null   int64\n",
      " 15  HESP7A      2535 non-null   int64\n",
      " 16  HESP8       2535 non-null   int64\n",
      " 17  HETSP9      2535 non-null   int64\n",
      " 18  HESS1       2535 non-null   int64\n",
      " 19  HESS2       2535 non-null   int64\n",
      " 20  HESS3       2535 non-null   int64\n",
      " 21  HESS4       2535 non-null   int64\n",
      " 22  HESH2       2535 non-null   int64\n",
      " 23  HESHF2      2535 non-null   int64\n",
      " 24  HESHM2      2535 non-null   int64\n",
      " 25  HESS5       2535 non-null   int64\n",
      " 26  HESS6       2535 non-null   int64\n",
      " 27  HESH1       2535 non-null   int64\n",
      " 28  HESSH2      2535 non-null   int64\n",
      "dtypes: int64(29)\n",
      "memory usage: 574.5 KB\n"
     ]
    }
   ],
   "source": [
    "cps_df.info()"
   ]
  },
  {
   "cell_type": "code",
   "execution_count": 24,
   "metadata": {},
   "outputs": [
    {
     "data": {
      "text/html": [
       "<div>\n",
       "<style scoped>\n",
       "    .dataframe tbody tr th:only-of-type {\n",
       "        vertical-align: middle;\n",
       "    }\n",
       "\n",
       "    .dataframe tbody tr th {\n",
       "        vertical-align: top;\n",
       "    }\n",
       "\n",
       "    .dataframe thead th {\n",
       "        text-align: right;\n",
       "    }\n",
       "</style>\n",
       "<table border=\"1\" class=\"dataframe\">\n",
       "  <thead>\n",
       "    <tr style=\"text-align: right;\">\n",
       "      <th></th>\n",
       "      <th>Unnamed: 0</th>\n",
       "      <th>HRYEAR4</th>\n",
       "      <th>HRHTYPE</th>\n",
       "      <th>GTCO</th>\n",
       "      <th>GTCBSASZ</th>\n",
       "      <th>GTCSA</th>\n",
       "      <th>PTDTRACE</th>\n",
       "      <th>PREMPNOT</th>\n",
       "      <th>HES8B</th>\n",
       "      <th>HETS8CO</th>\n",
       "      <th>...</th>\n",
       "      <th>HESS2</th>\n",
       "      <th>HESS3</th>\n",
       "      <th>HESS4</th>\n",
       "      <th>HESH2</th>\n",
       "      <th>HESHF2</th>\n",
       "      <th>HESHM2</th>\n",
       "      <th>HESS5</th>\n",
       "      <th>HESS6</th>\n",
       "      <th>HESH1</th>\n",
       "      <th>HESSH2</th>\n",
       "    </tr>\n",
       "  </thead>\n",
       "  <tbody>\n",
       "    <tr>\n",
       "      <th>0</th>\n",
       "      <td>2981</td>\n",
       "      <td>2020</td>\n",
       "      <td>0</td>\n",
       "      <td>0</td>\n",
       "      <td>0</td>\n",
       "      <td>0</td>\n",
       "      <td>-1</td>\n",
       "      <td>-1</td>\n",
       "      <td>-1</td>\n",
       "      <td>-1</td>\n",
       "      <td>...</td>\n",
       "      <td>-1</td>\n",
       "      <td>-1</td>\n",
       "      <td>-1</td>\n",
       "      <td>-1</td>\n",
       "      <td>-1</td>\n",
       "      <td>-1</td>\n",
       "      <td>-1</td>\n",
       "      <td>-1</td>\n",
       "      <td>-1</td>\n",
       "      <td>-1</td>\n",
       "    </tr>\n",
       "    <tr>\n",
       "      <th>1</th>\n",
       "      <td>2982</td>\n",
       "      <td>2020</td>\n",
       "      <td>7</td>\n",
       "      <td>0</td>\n",
       "      <td>0</td>\n",
       "      <td>0</td>\n",
       "      <td>2</td>\n",
       "      <td>1</td>\n",
       "      <td>3</td>\n",
       "      <td>-1</td>\n",
       "      <td>...</td>\n",
       "      <td>3</td>\n",
       "      <td>3</td>\n",
       "      <td>3</td>\n",
       "      <td>-1</td>\n",
       "      <td>-1</td>\n",
       "      <td>-1</td>\n",
       "      <td>-1</td>\n",
       "      <td>-1</td>\n",
       "      <td>-1</td>\n",
       "      <td>-1</td>\n",
       "    </tr>\n",
       "    <tr>\n",
       "      <th>2</th>\n",
       "      <td>2983</td>\n",
       "      <td>2020</td>\n",
       "      <td>1</td>\n",
       "      <td>0</td>\n",
       "      <td>0</td>\n",
       "      <td>0</td>\n",
       "      <td>2</td>\n",
       "      <td>4</td>\n",
       "      <td>3</td>\n",
       "      <td>-1</td>\n",
       "      <td>...</td>\n",
       "      <td>2</td>\n",
       "      <td>3</td>\n",
       "      <td>3</td>\n",
       "      <td>2</td>\n",
       "      <td>-1</td>\n",
       "      <td>-1</td>\n",
       "      <td>-1</td>\n",
       "      <td>-1</td>\n",
       "      <td>-1</td>\n",
       "      <td>-1</td>\n",
       "    </tr>\n",
       "    <tr>\n",
       "      <th>3</th>\n",
       "      <td>2984</td>\n",
       "      <td>2020</td>\n",
       "      <td>1</td>\n",
       "      <td>0</td>\n",
       "      <td>0</td>\n",
       "      <td>0</td>\n",
       "      <td>2</td>\n",
       "      <td>4</td>\n",
       "      <td>3</td>\n",
       "      <td>-1</td>\n",
       "      <td>...</td>\n",
       "      <td>2</td>\n",
       "      <td>3</td>\n",
       "      <td>3</td>\n",
       "      <td>2</td>\n",
       "      <td>-1</td>\n",
       "      <td>-1</td>\n",
       "      <td>-1</td>\n",
       "      <td>-1</td>\n",
       "      <td>-1</td>\n",
       "      <td>-1</td>\n",
       "    </tr>\n",
       "    <tr>\n",
       "      <th>4</th>\n",
       "      <td>2985</td>\n",
       "      <td>2020</td>\n",
       "      <td>0</td>\n",
       "      <td>0</td>\n",
       "      <td>0</td>\n",
       "      <td>0</td>\n",
       "      <td>-1</td>\n",
       "      <td>-1</td>\n",
       "      <td>-1</td>\n",
       "      <td>-1</td>\n",
       "      <td>...</td>\n",
       "      <td>-1</td>\n",
       "      <td>-1</td>\n",
       "      <td>-1</td>\n",
       "      <td>-1</td>\n",
       "      <td>-1</td>\n",
       "      <td>-1</td>\n",
       "      <td>-1</td>\n",
       "      <td>-1</td>\n",
       "      <td>-1</td>\n",
       "      <td>-1</td>\n",
       "    </tr>\n",
       "  </tbody>\n",
       "</table>\n",
       "<p>5 rows × 29 columns</p>\n",
       "</div>"
      ],
      "text/plain": [
       "   Unnamed: 0  HRYEAR4  HRHTYPE  GTCO  GTCBSASZ  GTCSA  PTDTRACE  PREMPNOT  \\\n",
       "0        2981     2020        0     0         0      0        -1        -1   \n",
       "1        2982     2020        7     0         0      0         2         1   \n",
       "2        2983     2020        1     0         0      0         2         4   \n",
       "3        2984     2020        1     0         0      0         2         4   \n",
       "4        2985     2020        0     0         0      0        -1        -1   \n",
       "\n",
       "   HES8B  HETS8CO  ...  HESS2  HESS3  HESS4  HESH2  HESHF2  HESHM2  HESS5  \\\n",
       "0     -1       -1  ...     -1     -1     -1     -1      -1      -1     -1   \n",
       "1      3       -1  ...      3      3      3     -1      -1      -1     -1   \n",
       "2      3       -1  ...      2      3      3      2      -1      -1     -1   \n",
       "3      3       -1  ...      2      3      3      2      -1      -1     -1   \n",
       "4     -1       -1  ...     -1     -1     -1     -1      -1      -1     -1   \n",
       "\n",
       "   HESS6  HESH1  HESSH2  \n",
       "0     -1     -1      -1  \n",
       "1     -1     -1      -1  \n",
       "2     -1     -1      -1  \n",
       "3     -1     -1      -1  \n",
       "4     -1     -1      -1  \n",
       "\n",
       "[5 rows x 29 columns]"
      ]
     },
     "execution_count": 24,
     "metadata": {},
     "output_type": "execute_result"
    }
   ],
   "source": [
    "cps_df.head()"
   ]
  },
  {
   "cell_type": "code",
   "execution_count": null,
   "metadata": {},
   "outputs": [],
   "source": []
  },
  {
   "cell_type": "code",
   "execution_count": null,
   "metadata": {},
   "outputs": [],
   "source": []
  },
  {
   "cell_type": "code",
   "execution_count": null,
   "metadata": {},
   "outputs": [],
   "source": []
  },
  {
   "cell_type": "code",
   "execution_count": null,
   "metadata": {},
   "outputs": [],
   "source": []
  },
  {
   "cell_type": "code",
   "execution_count": null,
   "metadata": {},
   "outputs": [],
   "source": []
  },
  {
   "cell_type": "code",
   "execution_count": null,
   "metadata": {},
   "outputs": [],
   "source": []
  },
  {
   "cell_type": "code",
   "execution_count": null,
   "metadata": {},
   "outputs": [],
   "source": []
  }
 ],
 "metadata": {
  "kernelspec": {
   "display_name": "Python 3",
   "language": "python",
   "name": "python3"
  },
  "language_info": {
   "codemirror_mode": {
    "name": "ipython",
    "version": 3
   },
   "file_extension": ".py",
   "mimetype": "text/x-python",
   "name": "python",
   "nbconvert_exporter": "python",
   "pygments_lexer": "ipython3",
   "version": "3.7.4"
  },
  "latex_envs": {
   "LaTeX_envs_menu_present": true,
   "autoclose": false,
   "autocomplete": true,
   "bibliofile": "biblio.bib",
   "cite_by": "apalike",
   "current_citInitial": 1,
   "eqLabelWithNumbers": true,
   "eqNumInitial": 1,
   "hotkeys": {
    "equation": "Ctrl-E",
    "itemize": "Ctrl-I"
   },
   "labels_anchors": false,
   "latex_user_defs": false,
   "report_style_numbering": false,
   "user_envs_cfg": false
  }
 },
 "nbformat": 4,
 "nbformat_minor": 2
}
