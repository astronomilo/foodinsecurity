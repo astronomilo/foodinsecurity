{
 "cells": [
  {
   "cell_type": "code",
   "execution_count": 23,
   "metadata": {},
   "outputs": [],
   "source": [
    "import pandas as pd\n",
    "import matplotlib.pyplot as plt\n",
    "import warnings\n",
    "warnings.filterwarnings(\"ignore\")"
   ]
  },
  {
   "cell_type": "code",
   "execution_count": 18,
   "metadata": {},
   "outputs": [],
   "source": [
    "# Path to the database\n",
    "cps_path = '../../datasets/Mississipi/'\n",
    "\n",
    "# Changing the original key names to something we can easily understand\n",
    "newnames= {'HEFAMINC':'FAMILY_INCOME','HRHTYPE':'HOUSEHOLD_TYPE', \n",
    "            'PTDTRACE':'RACE', 'PREMPNOT':'EMPLOYMENT_STATUS', \n",
    "            'PRCHLD':'PRESENCE_OF_CHILDREN_UNDER_18YO', 'HETS2O':'HOUSEHOLD_PURCHASES_GROCERIES', \n",
    "            'HETS6O':'HOUSEHOLD_PURCHASES_RESTAURANTS', \n",
    "            'HETS8CO': 'AMOUNT_NEEDED_TO_MEET_HOUSEHOLD_FOOD_NEED', \n",
    "            'HETSP3O':'FOODSTAMPS_AMT_PERMONTH', 'HESP1':'Y/N_RECEVIED_FOODBENEFITS_PAST12MONTHS',\n",
    "            'HRNUMHOU' : 'TOTAL_PERSONS_HOUSEHOLD','PRNMCHLD':'NUMBER_OWN_CHILDREN'}"
   ]
  },
  {
   "cell_type": "code",
   "execution_count": 37,
   "metadata": {},
   "outputs": [],
   "source": [
    "# Read 2019 Data:\n",
    "cps_csvfile = 'CPS_2019Data_MS.csv'\n",
    "cps2019_df = pd.read_csv(cps_path + cps_csvfile)\n",
    "cps2019_df = cps2019_df.rename(columns=newnames)"
   ]
  },
  {
   "cell_type": "code",
   "execution_count": 50,
   "metadata": {},
   "outputs": [],
   "source": [
    "Rz_cps2019_df = cps2019_df[['RACE',\n",
    "                            'AMOUNT_NEEDED_TO_MEET_HOUSEHOLD_FOOD_NEED',\n",
    "                            'FOODSTAMPS_AMT_PERMONTH',\n",
    "                            'HOUSEHOLD_PURCHASES_RESTAURANTS',\n",
    "                            'HOUSEHOLD_PURCHASES_GROCERIES',\n",
    "                            'FAMILY_INCOME']]\n",
    "# Chose number of children with statitistical significance\n",
    "Rz_cps2019_df = Rz_cps2019_df[Rz_cps2019_df.RACE.isin([0,1,2,3,4])]\n",
    "# Households needing to meet food needs\n",
    "Rz_cps2019_df = Rz_cps2019_df[Rz_cps2019_df['AMOUNT_NEEDED_TO_MEET_HOUSEHOLD_FOOD_NEED']!=-1]\n",
    "\n",
    "Rz_cps2019_df = Rz_cps2019_df[Rz_cps2019_df['FOODSTAMPS_AMT_PERMONTH']>0]"
   ]
  },
  {
   "cell_type": "code",
   "execution_count": 51,
   "metadata": {},
   "outputs": [
    {
     "name": "stdout",
     "output_type": "stream",
     "text": [
      "<class 'pandas.core.frame.DataFrame'>\n",
      "Int64Index: 92 entries, 65 to 2519\n",
      "Data columns (total 6 columns):\n",
      " #   Column                                     Non-Null Count  Dtype\n",
      "---  ------                                     --------------  -----\n",
      " 0   RACE                                       92 non-null     int64\n",
      " 1   AMOUNT_NEEDED_TO_MEET_HOUSEHOLD_FOOD_NEED  92 non-null     int64\n",
      " 2   FOODSTAMPS_AMT_PERMONTH                    92 non-null     int64\n",
      " 3   HOUSEHOLD_PURCHASES_RESTAURANTS            92 non-null     int64\n",
      " 4   HOUSEHOLD_PURCHASES_GROCERIES              92 non-null     int64\n",
      " 5   FAMILY_INCOME                              92 non-null     int64\n",
      "dtypes: int64(6)\n",
      "memory usage: 5.0 KB\n"
     ]
    }
   ],
   "source": [
    "Rz_cps2019_df.info()"
   ]
  },
  {
   "cell_type": "code",
   "execution_count": null,
   "metadata": {},
   "outputs": [],
   "source": []
  },
  {
   "cell_type": "code",
   "execution_count": 52,
   "metadata": {},
   "outputs": [],
   "source": [
    "Ch_cps2019_df = cps2019_df[cps2019_df.NUMBER_OWN_CHILDREN.isin([0,1,2,3])]"
   ]
  },
  {
   "cell_type": "code",
   "execution_count": null,
   "metadata": {},
   "outputs": [],
   "source": []
  },
  {
   "cell_type": "code",
   "execution_count": null,
   "metadata": {},
   "outputs": [],
   "source": []
  },
  {
   "cell_type": "code",
   "execution_count": null,
   "metadata": {},
   "outputs": [],
   "source": []
  },
  {
   "cell_type": "code",
   "execution_count": null,
   "metadata": {},
   "outputs": [],
   "source": []
  },
  {
   "cell_type": "code",
   "execution_count": null,
   "metadata": {},
   "outputs": [],
   "source": []
  },
  {
   "cell_type": "code",
   "execution_count": null,
   "metadata": {},
   "outputs": [],
   "source": []
  },
  {
   "cell_type": "code",
   "execution_count": null,
   "metadata": {},
   "outputs": [],
   "source": []
  },
  {
   "cell_type": "code",
   "execution_count": null,
   "metadata": {},
   "outputs": [],
   "source": []
  },
  {
   "cell_type": "code",
   "execution_count": null,
   "metadata": {},
   "outputs": [],
   "source": []
  },
  {
   "cell_type": "code",
   "execution_count": null,
   "metadata": {},
   "outputs": [],
   "source": []
  },
  {
   "cell_type": "code",
   "execution_count": 25,
   "metadata": {},
   "outputs": [
    {
     "ename": "AssertionError",
     "evalue": "1",
     "output_type": "error",
     "traceback": [
      "\u001b[0;31m---------------------------------------------------------------------------\u001b[0m",
      "\u001b[0;31mAssertionError\u001b[0m                            Traceback (most recent call last)",
      "\u001b[0;32m<ipython-input-25-9097b17983ab>\u001b[0m in \u001b[0;36m<module>\u001b[0;34m\u001b[0m\n\u001b[1;32m     43\u001b[0m \u001b[0;31m# Food stamps/month:\u001b[0m\u001b[0;34m\u001b[0m\u001b[0;34m\u001b[0m\u001b[0;34m\u001b[0m\u001b[0m\n\u001b[1;32m     44\u001b[0m FoodStamps.boxplot(column='FOODSTAMPS_AMT_PERMONTH',\n\u001b[0;32m---> 45\u001b[0;31m                  by='RACE',grid=False, ax=ax2)\n\u001b[0m\u001b[1;32m     46\u001b[0m \u001b[0max2\u001b[0m\u001b[0;34m.\u001b[0m\u001b[0mset_ylabel\u001b[0m\u001b[0;34m(\u001b[0m\u001b[0;34m'Food stamps/month'\u001b[0m\u001b[0;34m,\u001b[0m \u001b[0mfontsize\u001b[0m\u001b[0;34m=\u001b[0m\u001b[0;36m12\u001b[0m\u001b[0;34m)\u001b[0m\u001b[0;34m\u001b[0m\u001b[0;34m\u001b[0m\u001b[0m\n\u001b[1;32m     47\u001b[0m \u001b[0max2\u001b[0m\u001b[0;34m.\u001b[0m\u001b[0mset_title\u001b[0m\u001b[0;34m(\u001b[0m\u001b[0;34m''\u001b[0m\u001b[0;34m)\u001b[0m\u001b[0;34m\u001b[0m\u001b[0;34m\u001b[0m\u001b[0m\n",
      "\u001b[0;32m~/opt/anaconda3/lib/python3.7/site-packages/pandas/plotting/_core.py\u001b[0m in \u001b[0;36mboxplot_frame\u001b[0;34m(self, column, by, ax, fontsize, rot, grid, figsize, layout, return_type, backend, **kwargs)\u001b[0m\n\u001b[1;32m    520\u001b[0m         \u001b[0mlayout\u001b[0m\u001b[0;34m=\u001b[0m\u001b[0mlayout\u001b[0m\u001b[0;34m,\u001b[0m\u001b[0;34m\u001b[0m\u001b[0;34m\u001b[0m\u001b[0m\n\u001b[1;32m    521\u001b[0m         \u001b[0mreturn_type\u001b[0m\u001b[0;34m=\u001b[0m\u001b[0mreturn_type\u001b[0m\u001b[0;34m,\u001b[0m\u001b[0;34m\u001b[0m\u001b[0;34m\u001b[0m\u001b[0m\n\u001b[0;32m--> 522\u001b[0;31m         \u001b[0;34m**\u001b[0m\u001b[0mkwargs\u001b[0m\u001b[0;34m,\u001b[0m\u001b[0;34m\u001b[0m\u001b[0;34m\u001b[0m\u001b[0m\n\u001b[0m\u001b[1;32m    523\u001b[0m     )\n\u001b[1;32m    524\u001b[0m \u001b[0;34m\u001b[0m\u001b[0m\n",
      "\u001b[0;32m~/opt/anaconda3/lib/python3.7/site-packages/pandas/plotting/_matplotlib/boxplot.py\u001b[0m in \u001b[0;36mboxplot_frame\u001b[0;34m(self, column, by, ax, fontsize, rot, grid, figsize, layout, return_type, **kwds)\u001b[0m\n\u001b[1;32m    403\u001b[0m         \u001b[0mlayout\u001b[0m\u001b[0;34m=\u001b[0m\u001b[0mlayout\u001b[0m\u001b[0;34m,\u001b[0m\u001b[0;34m\u001b[0m\u001b[0;34m\u001b[0m\u001b[0m\n\u001b[1;32m    404\u001b[0m         \u001b[0mreturn_type\u001b[0m\u001b[0;34m=\u001b[0m\u001b[0mreturn_type\u001b[0m\u001b[0;34m,\u001b[0m\u001b[0;34m\u001b[0m\u001b[0;34m\u001b[0m\u001b[0m\n\u001b[0;32m--> 405\u001b[0;31m         \u001b[0;34m**\u001b[0m\u001b[0mkwds\u001b[0m\u001b[0;34m,\u001b[0m\u001b[0;34m\u001b[0m\u001b[0;34m\u001b[0m\u001b[0m\n\u001b[0m\u001b[1;32m    406\u001b[0m     )\n\u001b[1;32m    407\u001b[0m     \u001b[0mplt\u001b[0m\u001b[0;34m.\u001b[0m\u001b[0mdraw_if_interactive\u001b[0m\u001b[0;34m(\u001b[0m\u001b[0;34m)\u001b[0m\u001b[0;34m\u001b[0m\u001b[0;34m\u001b[0m\u001b[0m\n",
      "\u001b[0;32m~/opt/anaconda3/lib/python3.7/site-packages/pandas/plotting/_matplotlib/boxplot.py\u001b[0m in \u001b[0;36mboxplot\u001b[0;34m(data, column, by, ax, fontsize, rot, grid, figsize, layout, return_type, **kwds)\u001b[0m\n\u001b[1;32m    353\u001b[0m             \u001b[0max\u001b[0m\u001b[0;34m=\u001b[0m\u001b[0max\u001b[0m\u001b[0;34m,\u001b[0m\u001b[0;34m\u001b[0m\u001b[0;34m\u001b[0m\u001b[0m\n\u001b[1;32m    354\u001b[0m             \u001b[0mlayout\u001b[0m\u001b[0;34m=\u001b[0m\u001b[0mlayout\u001b[0m\u001b[0;34m,\u001b[0m\u001b[0;34m\u001b[0m\u001b[0;34m\u001b[0m\u001b[0m\n\u001b[0;32m--> 355\u001b[0;31m             \u001b[0mreturn_type\u001b[0m\u001b[0;34m=\u001b[0m\u001b[0mreturn_type\u001b[0m\u001b[0;34m,\u001b[0m\u001b[0;34m\u001b[0m\u001b[0;34m\u001b[0m\u001b[0m\n\u001b[0m\u001b[1;32m    356\u001b[0m         )\n\u001b[1;32m    357\u001b[0m     \u001b[0;32melse\u001b[0m\u001b[0;34m:\u001b[0m\u001b[0;34m\u001b[0m\u001b[0;34m\u001b[0m\u001b[0m\n",
      "\u001b[0;32m~/opt/anaconda3/lib/python3.7/site-packages/pandas/plotting/_matplotlib/boxplot.py\u001b[0m in \u001b[0;36m_grouped_plot_by_column\u001b[0;34m(plotf, data, columns, by, numeric_only, grid, figsize, ax, layout, return_type, **kwargs)\u001b[0m\n\u001b[1;32m    223\u001b[0m         \u001b[0mgp_col\u001b[0m \u001b[0;34m=\u001b[0m \u001b[0mgrouped\u001b[0m\u001b[0;34m[\u001b[0m\u001b[0mcol\u001b[0m\u001b[0;34m]\u001b[0m\u001b[0;34m\u001b[0m\u001b[0;34m\u001b[0m\u001b[0m\n\u001b[1;32m    224\u001b[0m         \u001b[0mkeys\u001b[0m\u001b[0;34m,\u001b[0m \u001b[0mvalues\u001b[0m \u001b[0;34m=\u001b[0m \u001b[0mzip\u001b[0m\u001b[0;34m(\u001b[0m\u001b[0;34m*\u001b[0m\u001b[0mgp_col\u001b[0m\u001b[0;34m)\u001b[0m\u001b[0;34m\u001b[0m\u001b[0;34m\u001b[0m\u001b[0m\n\u001b[0;32m--> 225\u001b[0;31m         \u001b[0mre_plotf\u001b[0m \u001b[0;34m=\u001b[0m \u001b[0mplotf\u001b[0m\u001b[0;34m(\u001b[0m\u001b[0mkeys\u001b[0m\u001b[0;34m,\u001b[0m \u001b[0mvalues\u001b[0m\u001b[0;34m,\u001b[0m \u001b[0max\u001b[0m\u001b[0;34m,\u001b[0m \u001b[0;34m**\u001b[0m\u001b[0mkwargs\u001b[0m\u001b[0;34m)\u001b[0m\u001b[0;34m\u001b[0m\u001b[0;34m\u001b[0m\u001b[0m\n\u001b[0m\u001b[1;32m    226\u001b[0m         \u001b[0max\u001b[0m\u001b[0;34m.\u001b[0m\u001b[0mset_title\u001b[0m\u001b[0;34m(\u001b[0m\u001b[0mcol\u001b[0m\u001b[0;34m)\u001b[0m\u001b[0;34m\u001b[0m\u001b[0;34m\u001b[0m\u001b[0m\n\u001b[1;32m    227\u001b[0m         \u001b[0max\u001b[0m\u001b[0;34m.\u001b[0m\u001b[0mset_xlabel\u001b[0m\u001b[0;34m(\u001b[0m\u001b[0mpprint_thing\u001b[0m\u001b[0;34m(\u001b[0m\u001b[0mby\u001b[0m\u001b[0;34m)\u001b[0m\u001b[0;34m)\u001b[0m\u001b[0;34m\u001b[0m\u001b[0;34m\u001b[0m\u001b[0m\n",
      "\u001b[0;32m~/opt/anaconda3/lib/python3.7/site-packages/pandas/plotting/_matplotlib/boxplot.py\u001b[0m in \u001b[0;36mplot_group\u001b[0;34m(keys, values, ax)\u001b[0m\n\u001b[1;32m    317\u001b[0m             \u001b[0;32mif\u001b[0m \u001b[0mlen\u001b[0m\u001b[0;34m(\u001b[0m\u001b[0mticks\u001b[0m\u001b[0;34m)\u001b[0m \u001b[0;34m!=\u001b[0m \u001b[0mlen\u001b[0m\u001b[0;34m(\u001b[0m\u001b[0mkeys\u001b[0m\u001b[0;34m)\u001b[0m\u001b[0;34m:\u001b[0m\u001b[0;34m\u001b[0m\u001b[0;34m\u001b[0m\u001b[0m\n\u001b[1;32m    318\u001b[0m                 \u001b[0mi\u001b[0m\u001b[0;34m,\u001b[0m \u001b[0mremainder\u001b[0m \u001b[0;34m=\u001b[0m \u001b[0mdivmod\u001b[0m\u001b[0;34m(\u001b[0m\u001b[0mlen\u001b[0m\u001b[0;34m(\u001b[0m\u001b[0mticks\u001b[0m\u001b[0;34m)\u001b[0m\u001b[0;34m,\u001b[0m \u001b[0mlen\u001b[0m\u001b[0;34m(\u001b[0m\u001b[0mkeys\u001b[0m\u001b[0;34m)\u001b[0m\u001b[0;34m)\u001b[0m\u001b[0;34m\u001b[0m\u001b[0;34m\u001b[0m\u001b[0m\n\u001b[0;32m--> 319\u001b[0;31m                 \u001b[0;32massert\u001b[0m \u001b[0mremainder\u001b[0m \u001b[0;34m==\u001b[0m \u001b[0;36m0\u001b[0m\u001b[0;34m,\u001b[0m \u001b[0mremainder\u001b[0m\u001b[0;34m\u001b[0m\u001b[0;34m\u001b[0m\u001b[0m\n\u001b[0m\u001b[1;32m    320\u001b[0m                 \u001b[0mkeys\u001b[0m \u001b[0;34m*=\u001b[0m \u001b[0mi\u001b[0m\u001b[0;34m\u001b[0m\u001b[0;34m\u001b[0m\u001b[0m\n\u001b[1;32m    321\u001b[0m             \u001b[0max\u001b[0m\u001b[0;34m.\u001b[0m\u001b[0mset_xticklabels\u001b[0m\u001b[0;34m(\u001b[0m\u001b[0mkeys\u001b[0m\u001b[0;34m,\u001b[0m \u001b[0mrotation\u001b[0m\u001b[0;34m=\u001b[0m\u001b[0mrot\u001b[0m\u001b[0;34m)\u001b[0m\u001b[0;34m\u001b[0m\u001b[0;34m\u001b[0m\u001b[0m\n",
      "\u001b[0;31mAssertionError\u001b[0m: 1"
     ]
    },
    {
     "data": {
      "image/png": "[encoded data removed]",
      "text/plain": [
       "<Figure size 864x1080 with 5 Axes>"
      ]
     },
     "metadata": {
      "needs_background": "light"
     },
     "output_type": "display_data"
    }
   ],
   "source": [
    "Dict_Race = {1: 'White Only',\n",
    "             2: 'Black Only',\n",
    "             4: 'Asian Only',\n",
    "             6: 'White-Black'}\n",
    "\n",
    "def fix_race(df, string):\n",
    "    for i in [1,2,4,6]:\n",
    "        if i not in df.RACE.drop_duplicates().values:\n",
    "            df = df.append({'RACE': i,\n",
    "                             string: 0}, \n",
    "                             ignore_index = True)\n",
    "    df = df.replace({\"RACE\": Dict_Race})    \n",
    "    return df\n",
    "# Households needing to meet food needs\n",
    "FoodNeed = cps2019_df[cps2019_df['AMOUNT_NEEDED_TO_MEET_HOUSEHOLD_FOOD_NEED']!=-1]\n",
    "FoodNeed = fix_race(FoodNeed, 'AMOUNT_NEEDED_TO_MEET_HOUSEHOLD_FOOD_NEED')\n",
    "# Food stamps/month:\n",
    "FoodStamps = cps2019_df[cps2019_df['FOODSTAMPS_AMT_PERMONTH']>0]\n",
    "FoodStamps = fix_race(FoodStamps, 'FOODSTAMPS_AMT_PERMONTH')\n",
    "# Purchases in Restaurants /week\n",
    "FoodRest = cps2019_df[cps2019_df['HOUSEHOLD_PURCHASES_RESTAURANTS']>=0]\n",
    "FoodRest = fix_race(FoodRest, 'HOUSEHOLD_PURCHASES_RESTAURANTS')\n",
    "# Purchases in Groceries / week\n",
    "FoodGroc = cps2019_df[cps2019_df['HOUSEHOLD_PURCHASES_GROCERIES']>=0]\n",
    "FoodGroc = fix_race(FoodGroc, 'HOUSEHOLD_PURCHASES_GROCERIES')\n",
    "# Family Income\n",
    "FamInc = cps2019_df[cps2019_df['AMOUNT_NEEDED_TO_MEET_HOUSEHOLD_FOOD_NEED']!=-1]\n",
    "Dict_Family_Income = { 1: 2500, 2: 6250, 3: 8750, 4: 11250, 5: 13750, 6: 17500,\n",
    "                       7: 22500, 8: 27500, 9: 32500, 10: 37500, 11: 45000, 12: 55000,\n",
    "                      13: 67500, 14: 87500, 15: 125000, 16: 150000}\n",
    "FamInc = FamInc.replace({\"FAMILY_INCOME\": Dict_Family_Income})\n",
    "FamInc = fix_race(FamInc, 'FAMILY_INCOME')\n",
    "\n",
    "# MAKE THE PLOT\n",
    "fig, (ax1, ax2, ax3, ax4, ax5) = plt.subplots(5, sharex=True, figsize=(12,15))\n",
    "fig.subplots_adjust(0,0,1,1,0,0.03) # This removes space between plots\n",
    "\n",
    "FoodNeed.boxplot(column='AMOUNT_NEEDED_TO_MEET_HOUSEHOLD_FOOD_NEED',\n",
    "                 by='RACE',grid=False, ax=ax1)\n",
    "ax1.set_ylabel('Money needed/week', fontsize=12)\n",
    "ax1.set_title('')\n",
    "ax1.set_ylim(0,210)\n",
    "# Food stamps/month:\n",
    "FoodStamps.boxplot(column='FOODSTAMPS_AMT_PERMONTH',\n",
    "                 by='RACE',grid=False, ax=ax2)\n",
    "ax2.set_ylabel('Food stamps/month', fontsize=12)\n",
    "ax2.set_title('')\n",
    "ax2.set_ylim(0,700)\n",
    "# Purchase Restaurants\n",
    "FoodRest.boxplot(column='HOUSEHOLD_PURCHASES_RESTAURANTS',\n",
    "                 by='RACE',grid=False,ax=ax3)\n",
    "ax3.set_ylabel('Money Restaurants/week', fontsize=12)\n",
    "ax3.set_title('')\n",
    "ax3.set_ylim(0,305)\n",
    "# Purchases in Groceries / week\n",
    "FoodGroc.boxplot(column='HOUSEHOLD_PURCHASES_GROCERIES',\n",
    "                 by='RACE',grid=False,ax=ax4)\n",
    "ax4.set_ylabel('Money Groceries/week', fontsize=12)\n",
    "ax4.set_title('')\n",
    "ax4.set_ylim(0,450)\n",
    "# Family Income\n",
    "FamInc.boxplot(column='FAMILY_INCOME',\n",
    "                 by='RACE',grid=False, ax=ax5)\n",
    "ax5.set_ylabel('Family Income/year', fontsize=12)\n",
    "ax5.set_title('')\n",
    "ax5.set_ylim(0,160000)\n",
    "ax5.set_xlabel('Race')\n",
    "ax5.tick_params(axis='x', labelrotation = 90)\n",
    "\n",
    "fig.suptitle('2019',y=0.93, fontsize=30)\n",
    "plt.show()"
   ]
  },
  {
   "cell_type": "code",
   "execution_count": null,
   "metadata": {},
   "outputs": [],
   "source": []
  },
  {
   "cell_type": "code",
   "execution_count": null,
   "metadata": {},
   "outputs": [],
   "source": []
  },
  {
   "cell_type": "code",
   "execution_count": null,
   "metadata": {},
   "outputs": [],
   "source": []
  },
  {
   "cell_type": "code",
   "execution_count": null,
   "metadata": {},
   "outputs": [],
   "source": []
  }
 ],
 "metadata": {
  "kernelspec": {
   "display_name": "Python 3",
   "language": "python",
   "name": "python3"
  },
  "language_info": {
   "codemirror_mode": {
    "name": "ipython",
    "version": 3
   },
   "file_extension": ".py",
   "mimetype": "text/x-python",
   "name": "python",
   "nbconvert_exporter": "python",
   "pygments_lexer": "ipython3",
   "version": "3.7.4"
  },
  "latex_envs": {
   "LaTeX_envs_menu_present": true,
   "autoclose": false,
   "autocomplete": true,
   "bibliofile": "biblio.bib",
   "cite_by": "apalike",
   "current_citInitial": 1,
   "eqLabelWithNumbers": true,
   "eqNumInitial": 1,
   "hotkeys": {
    "equation": "Ctrl-E",
    "itemize": "Ctrl-I"
   },
   "labels_anchors": false,
   "latex_user_defs": false,
   "report_style_numbering": false,
   "user_envs_cfg": false
  }
 },
 "nbformat": 4,
 "nbformat_minor": 2
}
