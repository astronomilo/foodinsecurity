{
 "cells": [
  {
   "cell_type": "code",
   "execution_count": 1,
   "metadata": {},
   "outputs": [],
   "source": [
    "import pandas as pd\n",
    "import matplotlib.pyplot as plt\n",
    "import warnings\n",
    "warnings.filterwarnings(\"ignore\")"
   ]
  },
  {
   "cell_type": "code",
   "execution_count": 2,
   "metadata": {},
   "outputs": [],
   "source": [
    "# Path to the database\n",
    "cps_path = '../../datasets/Mississipi/'\n",
    "\n",
    "# Changing the original key names to something we can easily understand\n",
    "newnames= {'HEFAMINC':'FAMILY_INCOME','HRHTYPE':'HOUSEHOLD_TYPE', \n",
    "            'PTDTRACE':'RACE', 'PREMPNOT':'EMPLOYMENT_STATUS', \n",
    "            'PRCHLD':'PRESENCE_OF_CHILDREN_UNDER_18YO', 'HETS2O':'HOUSEHOLD_PURCHASES_GROCERIES', \n",
    "            'HETS6O':'HOUSEHOLD_PURCHASES_RESTAURANTS', \n",
    "            'HETS8CO': 'AMOUNT_NEEDED_TO_MEET_HOUSEHOLD_FOOD_NEED', \n",
    "            'HETSP3O':'FOODSTAMPS_AMT_PERMONTH', 'HESP1':'Y/N_RECEVIED_FOODBENEFITS_PAST12MONTHS',\n",
    "            'HRNUMHOU' : 'TOTAL_PERSONS_HOUSEHOLD','PRNMCHLD':'NUMBER_OWN_CHILDREN'}"
   ]
  },
  {
   "cell_type": "code",
   "execution_count": 3,
   "metadata": {},
   "outputs": [],
   "source": [
    "# Read 2019 Data:\n",
    "cps_csvfile = 'CPS_2019Data_MS.csv'\n",
    "cps2019_df = pd.read_csv(cps_path + cps_csvfile)\n",
    "cps2019_df = cps2019_df.rename(columns=newnames)"
   ]
  },
  {
   "cell_type": "code",
   "execution_count": 4,
   "metadata": {},
   "outputs": [],
   "source": [
    "Rz_cps2019_df = cps2019_df[['RACE',\n",
    "                            'AMOUNT_NEEDED_TO_MEET_HOUSEHOLD_FOOD_NEED',\n",
    "                            'FOODSTAMPS_AMT_PERMONTH',\n",
    "                            'HOUSEHOLD_PURCHASES_RESTAURANTS',\n",
    "                            'HOUSEHOLD_PURCHASES_GROCERIES',\n",
    "                            'FAMILY_INCOME']]\n",
    "# Chose number of children with statitistical significance\n",
    "Rz_cps2019_df = Rz_cps2019_df[Rz_cps2019_df.RACE.isin([0,1,2,3,4])]\n",
    "# Households needing to meet food needs\n",
    "Rz_cps2019_df = Rz_cps2019_df[Rz_cps2019_df['AMOUNT_NEEDED_TO_MEET_HOUSEHOLD_FOOD_NEED']!=-1]\n",
    "\n",
    "Rz_cps2019_df = Rz_cps2019_df[Rz_cps2019_df['FOODSTAMPS_AMT_PERMONTH']>0]"
   ]
  },
  {
   "cell_type": "code",
   "execution_count": 5,
   "metadata": {},
   "outputs": [
    {
     "name": "stdout",
     "output_type": "stream",
     "text": [
      "<class 'pandas.core.frame.DataFrame'>\n",
      "Int64Index: 92 entries, 65 to 2519\n",
      "Data columns (total 6 columns):\n",
      " #   Column                                     Non-Null Count  Dtype\n",
      "---  ------                                     --------------  -----\n",
      " 0   RACE                                       92 non-null     int64\n",
      " 1   AMOUNT_NEEDED_TO_MEET_HOUSEHOLD_FOOD_NEED  92 non-null     int64\n",
      " 2   FOODSTAMPS_AMT_PERMONTH                    92 non-null     int64\n",
      " 3   HOUSEHOLD_PURCHASES_RESTAURANTS            92 non-null     int64\n",
      " 4   HOUSEHOLD_PURCHASES_GROCERIES              92 non-null     int64\n",
      " 5   FAMILY_INCOME                              92 non-null     int64\n",
      "dtypes: int64(6)\n",
      "memory usage: 5.0 KB\n"
     ]
    }
   ],
   "source": [
    "Rz_cps2019_df.info()"
   ]
  },
  {
   "cell_type": "code",
   "execution_count": null,
   "metadata": {},
   "outputs": [],
   "source": []
  },
  {
   "cell_type": "code",
   "execution_count": 6,
   "metadata": {},
   "outputs": [],
   "source": [
    "Ch_cps2019_df = cps2019_df[cps2019_df.NUMBER_OWN_CHILDREN.isin([0,1,2,3])]"
   ]
  },
  {
   "cell_type": "code",
   "execution_count": null,
   "metadata": {},
   "outputs": [],
   "source": []
  },
  {
   "cell_type": "code",
   "execution_count": null,
   "metadata": {},
   "outputs": [],
   "source": []
  },
  {
   "cell_type": "code",
   "execution_count": null,
   "metadata": {},
   "outputs": [],
   "source": []
  },
  {
   "cell_type": "code",
   "execution_count": null,
   "metadata": {},
   "outputs": [],
   "source": []
  },
  {
   "cell_type": "code",
   "execution_count": null,
   "metadata": {},
   "outputs": [],
   "source": []
  },
  {
   "cell_type": "code",
   "execution_count": null,
   "metadata": {},
   "outputs": [],
   "source": []
  },
  {
   "cell_type": "code",
   "execution_count": null,
   "metadata": {},
   "outputs": [],
   "source": []
  },
  {
   "cell_type": "code",
   "execution_count": null,
   "metadata": {},
   "outputs": [],
   "source": []
  },
  {
   "cell_type": "code",
   "execution_count": null,
   "metadata": {},
   "outputs": [],
   "source": []
  },
  {
   "cell_type": "code",
   "execution_count": null,
   "metadata": {},
   "outputs": [],
   "source": []
  },
  {
   "cell_type": "code",
   "execution_count": null,
   "metadata": {},
   "outputs": [],
   "source": []
  },
  {
   "cell_type": "code",
   "execution_count": null,
   "metadata": {},
   "outputs": [],
   "source": []
  },
  {
   "cell_type": "code",
   "execution_count": null,
   "metadata": {},
   "outputs": [],
   "source": []
  },
  {
   "cell_type": "code",
   "execution_count": null,
   "metadata": {},
   "outputs": [],
   "source": []
  },
  {
   "cell_type": "code",
   "execution_count": null,
   "metadata": {},
   "outputs": [],
   "source": []
  }
 ],
 "metadata": {
  "kernelspec": {
   "display_name": "Python 3",
   "language": "python",
   "name": "python3"
  },
  "language_info": {
   "codemirror_mode": {
    "name": "ipython",
    "version": 3
   },
   "file_extension": ".py",
   "mimetype": "text/x-python",
   "name": "python",
   "nbconvert_exporter": "python",
   "pygments_lexer": "ipython3",
   "version": "3.7.4"
  },
  "latex_envs": {
   "LaTeX_envs_menu_present": true,
   "autoclose": false,
   "autocomplete": true,
   "bibliofile": "biblio.bib",
   "cite_by": "apalike",
   "current_citInitial": 1,
   "eqLabelWithNumbers": true,
   "eqNumInitial": 1,
   "hotkeys": {
    "equation": "Ctrl-E",
    "itemize": "Ctrl-I"
   },
   "labels_anchors": false,
   "latex_user_defs": false,
   "report_style_numbering": false,
   "user_envs_cfg": false
  }
 },
 "nbformat": 4,
 "nbformat_minor": 2
}
